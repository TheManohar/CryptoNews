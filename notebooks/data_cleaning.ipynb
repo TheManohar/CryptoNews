{
 "cells": [
  {
   "cell_type": "code",
   "execution_count": 61,
   "metadata": {
    "collapsed": false
   },
   "outputs": [],
   "source": [
    "import mysql.connector\n",
    "import sys\n",
    "sys.path.append('../')\n",
    "from transform import read_data, parse_data\n",
    "from CN_config import apiKey, mysql_u, mysql_p\n",
    "import pandas as pd\n",
    "import datetime"
   ]
  },
  {
   "cell_type": "markdown",
   "metadata": {},
   "source": [
    "## Read Data"
   ]
  },
  {
   "cell_type": "code",
   "execution_count": 53,
   "metadata": {
    "collapsed": true
   },
   "outputs": [],
   "source": [
    "def connect_base(user, passwd):\n",
    "    mydb = mysql.connector.connect(user=user,\n",
    "                                    passwd=passwd,\n",
    "                                    host='msitapati.mysql.pythonanywhere-services.com',\n",
    "                                    database='msitapati$crypto_news')\n",
    "    print(f'Successfully connected to MySQL')\n",
    "    return mydb"
   ]
  },
  {
   "cell_type": "code",
   "execution_count": 54,
   "metadata": {
    "collapsed": false
   },
   "outputs": [
    {
     "name": "stdout",
     "output_type": "stream",
     "text": [
      "Successfully connected to MySQL\n"
     ]
    }
   ],
   "source": [
    "mydb = connect_base(mysql_u, mysql_p)"
   ]
  },
  {
   "cell_type": "code",
   "execution_count": 55,
   "metadata": {
    "collapsed": true
   },
   "outputs": [],
   "source": [
    "def show_tables(mydb):\n",
    "    import mysql.connector\n",
    "    mycursor = mydb.cursor()\n",
    "    mycursor.execute(\"SHOW TABLES\")\n",
    "    print('Tables in current DB:')\n",
    "    for x in mycursor:\n",
    "        print(x)\n",
    "    return mycursor\n",
    "\n"
   ]
  },
  {
   "cell_type": "code",
   "execution_count": 56,
   "metadata": {
    "collapsed": false
   },
   "outputs": [
    {
     "name": "stdout",
     "output_type": "stream",
     "text": [
      "Tables in current DB:\n",
      "('articles',)\n"
     ]
    },
    {
     "data": {
      "text/plain": [
       "<mysql.connector.cursor.MySQLCursor at 0x7fd8d53f6d68>"
      ]
     },
     "execution_count": 56,
     "metadata": {},
     "output_type": "execute_result"
    }
   ],
   "source": [
    "show_tables(mydb)"
   ]
  },
  {
   "cell_type": "code",
   "execution_count": 57,
   "metadata": {
    "collapsed": true
   },
   "outputs": [],
   "source": [
    "def select_data(mydb):\n",
    "    mycursor = mydb.cursor()\n",
    "    mycursor.execute('SELECT * FROM articles')\n",
    "    myresult = mycursor.fetchall()\n",
    "    return pd.DataFrame(myresult, columns=['publishedAt', 'source', 'source_id', 'author', 'title', 'description', 'content', 'url'])"
   ]
  },
  {
   "cell_type": "code",
   "execution_count": 58,
   "metadata": {
    "collapsed": false
   },
   "outputs": [],
   "source": [
    "df = select_data(mydb)"
   ]
  },
  {
   "cell_type": "code",
   "execution_count": 59,
   "metadata": {
    "collapsed": false
   },
   "outputs": [
    {
     "data": {
      "text/html": [
       "<div>\n",
       "<style scoped>\n",
       "    .dataframe tbody tr th:only-of-type {\n",
       "        vertical-align: middle;\n",
       "    }\n",
       "\n",
       "    .dataframe tbody tr th {\n",
       "        vertical-align: top;\n",
       "    }\n",
       "\n",
       "    .dataframe thead th {\n",
       "        text-align: right;\n",
       "    }\n",
       "</style>\n",
       "<table border=\"1\" class=\"dataframe\">\n",
       "  <thead>\n",
       "    <tr style=\"text-align: right;\">\n",
       "      <th></th>\n",
       "      <th>publishedAt</th>\n",
       "      <th>source</th>\n",
       "      <th>source_id</th>\n",
       "      <th>author</th>\n",
       "      <th>title</th>\n",
       "      <th>description</th>\n",
       "      <th>content</th>\n",
       "      <th>url</th>\n",
       "    </tr>\n",
       "  </thead>\n",
       "  <tbody>\n",
       "    <tr>\n",
       "      <th>0</th>\n",
       "      <td>2020-04-25 15:14:11</td>\n",
       "      <td>Forbes</td>\n",
       "      <td>forbes</td>\n",
       "      <td>Biser Dimitrov, Contributor, \\n Biser Dimitrov...</td>\n",
       "      <td>Big Four Accounting Firm Wants To Empower Ente...</td>\n",
       "      <td>Using the public Ethereum blockchain for enter...</td>\n",
       "      <td>Paul Brody, Global Blockchain Innovation Leade...</td>\n",
       "      <td>https://www.forbes.com/sites/biserdimitrov/202...</td>\n",
       "    </tr>\n",
       "    <tr>\n",
       "      <th>1</th>\n",
       "      <td>2020-04-26 09:57:47</td>\n",
       "      <td>Bloomberg</td>\n",
       "      <td>bloomberg</td>\n",
       "      <td>None</td>\n",
       "      <td>Swiss 'Crypto Valley' In Talks for More Financ...</td>\n",
       "      <td>None</td>\n",
       "      <td>None</td>\n",
       "      <td>https://www.bloomberg.com/news/articles/2020-0...</td>\n",
       "    </tr>\n",
       "    <tr>\n",
       "      <th>2</th>\n",
       "      <td>2020-04-26 15:10:25</td>\n",
       "      <td>Forbes</td>\n",
       "      <td>forbes</td>\n",
       "      <td>Crypto Confidential, Forbes Staff, \\n Crypto C...</td>\n",
       "      <td>Bitcoin Hits April High; Crypto Portfolios Get...</td>\n",
       "      <td>The number of deposits of exactly $1,200 more ...</td>\n",
       "      <td>Get Forbes' top crypto and blockchain stories ...</td>\n",
       "      <td>https://www.forbes.com/sites/cryptoconfidentia...</td>\n",
       "    </tr>\n",
       "    <tr>\n",
       "      <th>3</th>\n",
       "      <td>2020-04-27 01:15:47</td>\n",
       "      <td>CoinDesk</td>\n",
       "      <td>coindesk</td>\n",
       "      <td>Noelle Acheson</td>\n",
       "      <td>Crypto Long &amp; Short: How Oil Going Negative Co...</td>\n",
       "      <td>The economic repercussions of oil going negati...</td>\n",
       "      <td>This will always be remembered as the week whe...</td>\n",
       "      <td>https://www.coindesk.com/oil-going-negative-bi...</td>\n",
       "    </tr>\n",
       "    <tr>\n",
       "      <th>4</th>\n",
       "      <td>2020-04-27 06:46:25</td>\n",
       "      <td>Forbes</td>\n",
       "      <td>forbes</td>\n",
       "      <td>Luke Fitzpatrick, Contributor, \\n Luke Fitzpat...</td>\n",
       "      <td>Bitcoin Halving: A New Class Of Bitcoin Millio...</td>\n",
       "      <td>The third bitcoin halving could be a major cat...</td>\n",
       "      <td>The photo shows a physical imitation of a Bitc...</td>\n",
       "      <td>https://www.forbes.com/sites/lukefitzpatrick/2...</td>\n",
       "    </tr>\n",
       "  </tbody>\n",
       "</table>\n",
       "</div>"
      ],
      "text/plain": [
       "          publishedAt     source  source_id  \\\n",
       "0 2020-04-25 15:14:11     Forbes     forbes   \n",
       "1 2020-04-26 09:57:47  Bloomberg  bloomberg   \n",
       "2 2020-04-26 15:10:25     Forbes     forbes   \n",
       "3 2020-04-27 01:15:47   CoinDesk   coindesk   \n",
       "4 2020-04-27 06:46:25     Forbes     forbes   \n",
       "\n",
       "                                              author  \\\n",
       "0  Biser Dimitrov, Contributor, \\n Biser Dimitrov...   \n",
       "1                                               None   \n",
       "2  Crypto Confidential, Forbes Staff, \\n Crypto C...   \n",
       "3                                     Noelle Acheson   \n",
       "4  Luke Fitzpatrick, Contributor, \\n Luke Fitzpat...   \n",
       "\n",
       "                                               title  \\\n",
       "0  Big Four Accounting Firm Wants To Empower Ente...   \n",
       "1  Swiss 'Crypto Valley' In Talks for More Financ...   \n",
       "2  Bitcoin Hits April High; Crypto Portfolios Get...   \n",
       "3  Crypto Long & Short: How Oil Going Negative Co...   \n",
       "4  Bitcoin Halving: A New Class Of Bitcoin Millio...   \n",
       "\n",
       "                                         description  \\\n",
       "0  Using the public Ethereum blockchain for enter...   \n",
       "1                                               None   \n",
       "2  The number of deposits of exactly $1,200 more ...   \n",
       "3  The economic repercussions of oil going negati...   \n",
       "4  The third bitcoin halving could be a major cat...   \n",
       "\n",
       "                                             content  \\\n",
       "0  Paul Brody, Global Blockchain Innovation Leade...   \n",
       "1                                               None   \n",
       "2  Get Forbes' top crypto and blockchain stories ...   \n",
       "3  This will always be remembered as the week whe...   \n",
       "4  The photo shows a physical imitation of a Bitc...   \n",
       "\n",
       "                                                 url  \n",
       "0  https://www.forbes.com/sites/biserdimitrov/202...  \n",
       "1  https://www.bloomberg.com/news/articles/2020-0...  \n",
       "2  https://www.forbes.com/sites/cryptoconfidentia...  \n",
       "3  https://www.coindesk.com/oil-going-negative-bi...  \n",
       "4  https://www.forbes.com/sites/lukefitzpatrick/2...  "
      ]
     },
     "execution_count": 59,
     "metadata": {},
     "output_type": "execute_result"
    }
   ],
   "source": [
    "df.head()"
   ]
  },
  {
   "cell_type": "code",
   "execution_count": 62,
   "metadata": {
    "collapsed": false
   },
   "outputs": [],
   "source": [
    "df.to_pickle(f'{datetime.datetime.now().strftime(\"%y%m%d-%H%M%S\")}-df.pkl')"
   ]
  },
  {
   "cell_type": "code",
   "execution_count": 63,
   "metadata": {
    "collapsed": true
   },
   "outputs": [],
   "source": [
    "unpickled_df = pd.read_pickle('200603-225635-df.pkl')"
   ]
  },
  {
   "cell_type": "code",
   "execution_count": 64,
   "metadata": {
    "collapsed": false
   },
   "outputs": [
    {
     "data": {
      "text/html": [
       "<div>\n",
       "<style scoped>\n",
       "    .dataframe tbody tr th:only-of-type {\n",
       "        vertical-align: middle;\n",
       "    }\n",
       "\n",
       "    .dataframe tbody tr th {\n",
       "        vertical-align: top;\n",
       "    }\n",
       "\n",
       "    .dataframe thead th {\n",
       "        text-align: right;\n",
       "    }\n",
       "</style>\n",
       "<table border=\"1\" class=\"dataframe\">\n",
       "  <thead>\n",
       "    <tr style=\"text-align: right;\">\n",
       "      <th></th>\n",
       "      <th>publishedAt</th>\n",
       "      <th>source</th>\n",
       "      <th>source_id</th>\n",
       "      <th>author</th>\n",
       "      <th>title</th>\n",
       "      <th>description</th>\n",
       "      <th>content</th>\n",
       "      <th>url</th>\n",
       "    </tr>\n",
       "  </thead>\n",
       "  <tbody>\n",
       "    <tr>\n",
       "      <th>0</th>\n",
       "      <td>2020-04-25 15:14:11</td>\n",
       "      <td>Forbes</td>\n",
       "      <td>forbes</td>\n",
       "      <td>Biser Dimitrov, Contributor, \\n Biser Dimitrov...</td>\n",
       "      <td>Big Four Accounting Firm Wants To Empower Ente...</td>\n",
       "      <td>Using the public Ethereum blockchain for enter...</td>\n",
       "      <td>Paul Brody, Global Blockchain Innovation Leade...</td>\n",
       "      <td>https://www.forbes.com/sites/biserdimitrov/202...</td>\n",
       "    </tr>\n",
       "    <tr>\n",
       "      <th>1</th>\n",
       "      <td>2020-04-26 09:57:47</td>\n",
       "      <td>Bloomberg</td>\n",
       "      <td>bloomberg</td>\n",
       "      <td>None</td>\n",
       "      <td>Swiss 'Crypto Valley' In Talks for More Financ...</td>\n",
       "      <td>None</td>\n",
       "      <td>None</td>\n",
       "      <td>https://www.bloomberg.com/news/articles/2020-0...</td>\n",
       "    </tr>\n",
       "    <tr>\n",
       "      <th>2</th>\n",
       "      <td>2020-04-26 15:10:25</td>\n",
       "      <td>Forbes</td>\n",
       "      <td>forbes</td>\n",
       "      <td>Crypto Confidential, Forbes Staff, \\n Crypto C...</td>\n",
       "      <td>Bitcoin Hits April High; Crypto Portfolios Get...</td>\n",
       "      <td>The number of deposits of exactly $1,200 more ...</td>\n",
       "      <td>Get Forbes' top crypto and blockchain stories ...</td>\n",
       "      <td>https://www.forbes.com/sites/cryptoconfidentia...</td>\n",
       "    </tr>\n",
       "    <tr>\n",
       "      <th>3</th>\n",
       "      <td>2020-04-27 01:15:47</td>\n",
       "      <td>CoinDesk</td>\n",
       "      <td>coindesk</td>\n",
       "      <td>Noelle Acheson</td>\n",
       "      <td>Crypto Long &amp; Short: How Oil Going Negative Co...</td>\n",
       "      <td>The economic repercussions of oil going negati...</td>\n",
       "      <td>This will always be remembered as the week whe...</td>\n",
       "      <td>https://www.coindesk.com/oil-going-negative-bi...</td>\n",
       "    </tr>\n",
       "    <tr>\n",
       "      <th>4</th>\n",
       "      <td>2020-04-27 06:46:25</td>\n",
       "      <td>Forbes</td>\n",
       "      <td>forbes</td>\n",
       "      <td>Luke Fitzpatrick, Contributor, \\n Luke Fitzpat...</td>\n",
       "      <td>Bitcoin Halving: A New Class Of Bitcoin Millio...</td>\n",
       "      <td>The third bitcoin halving could be a major cat...</td>\n",
       "      <td>The photo shows a physical imitation of a Bitc...</td>\n",
       "      <td>https://www.forbes.com/sites/lukefitzpatrick/2...</td>\n",
       "    </tr>\n",
       "  </tbody>\n",
       "</table>\n",
       "</div>"
      ],
      "text/plain": [
       "          publishedAt     source  source_id  \\\n",
       "0 2020-04-25 15:14:11     Forbes     forbes   \n",
       "1 2020-04-26 09:57:47  Bloomberg  bloomberg   \n",
       "2 2020-04-26 15:10:25     Forbes     forbes   \n",
       "3 2020-04-27 01:15:47   CoinDesk   coindesk   \n",
       "4 2020-04-27 06:46:25     Forbes     forbes   \n",
       "\n",
       "                                              author  \\\n",
       "0  Biser Dimitrov, Contributor, \\n Biser Dimitrov...   \n",
       "1                                               None   \n",
       "2  Crypto Confidential, Forbes Staff, \\n Crypto C...   \n",
       "3                                     Noelle Acheson   \n",
       "4  Luke Fitzpatrick, Contributor, \\n Luke Fitzpat...   \n",
       "\n",
       "                                               title  \\\n",
       "0  Big Four Accounting Firm Wants To Empower Ente...   \n",
       "1  Swiss 'Crypto Valley' In Talks for More Financ...   \n",
       "2  Bitcoin Hits April High; Crypto Portfolios Get...   \n",
       "3  Crypto Long & Short: How Oil Going Negative Co...   \n",
       "4  Bitcoin Halving: A New Class Of Bitcoin Millio...   \n",
       "\n",
       "                                         description  \\\n",
       "0  Using the public Ethereum blockchain for enter...   \n",
       "1                                               None   \n",
       "2  The number of deposits of exactly $1,200 more ...   \n",
       "3  The economic repercussions of oil going negati...   \n",
       "4  The third bitcoin halving could be a major cat...   \n",
       "\n",
       "                                             content  \\\n",
       "0  Paul Brody, Global Blockchain Innovation Leade...   \n",
       "1                                               None   \n",
       "2  Get Forbes' top crypto and blockchain stories ...   \n",
       "3  This will always be remembered as the week whe...   \n",
       "4  The photo shows a physical imitation of a Bitc...   \n",
       "\n",
       "                                                 url  \n",
       "0  https://www.forbes.com/sites/biserdimitrov/202...  \n",
       "1  https://www.bloomberg.com/news/articles/2020-0...  \n",
       "2  https://www.forbes.com/sites/cryptoconfidentia...  \n",
       "3  https://www.coindesk.com/oil-going-negative-bi...  \n",
       "4  https://www.forbes.com/sites/lukefitzpatrick/2...  "
      ]
     },
     "execution_count": 64,
     "metadata": {},
     "output_type": "execute_result"
    }
   ],
   "source": [
    "unpickled_df.head()"
   ]
  },
  {
   "cell_type": "code",
   "execution_count": 8,
   "metadata": {
    "collapsed": false
   },
   "outputs": [],
   "source": [
    "#df['source'] = df['source'].astype('category')"
   ]
  },
  {
   "cell_type": "code",
   "execution_count": 9,
   "metadata": {
    "collapsed": true
   },
   "outputs": [],
   "source": [
    "#df['source_id'] = df['source_id'].astype('category')"
   ]
  },
  {
   "cell_type": "code",
   "execution_count": 10,
   "metadata": {
    "collapsed": true
   },
   "outputs": [],
   "source": [
    "#df['author'] = df['author'].astype('category')"
   ]
  },
  {
   "cell_type": "code",
   "execution_count": 11,
   "metadata": {
    "collapsed": false
   },
   "outputs": [
    {
     "data": {
      "text/plain": [
       "159"
      ]
     },
     "execution_count": 11,
     "metadata": {},
     "output_type": "execute_result"
    }
   ],
   "source": [
    "len(df.loc[df['title'].str.contains('crypto', case=False)])"
   ]
  },
  {
   "cell_type": "code",
   "execution_count": 12,
   "metadata": {
    "collapsed": false
   },
   "outputs": [
    {
     "data": {
      "text/plain": [
       "279"
      ]
     },
     "execution_count": 12,
     "metadata": {},
     "output_type": "execute_result"
    }
   ],
   "source": [
    "len(df.loc[df['title'].str.contains('bitcoin', case=False)])"
   ]
  },
  {
   "cell_type": "code",
   "execution_count": 13,
   "metadata": {
    "collapsed": false
   },
   "outputs": [
    {
     "data": {
      "text/plain": [
       "51"
      ]
     },
     "execution_count": 13,
     "metadata": {},
     "output_type": "execute_result"
    }
   ],
   "source": [
    "len(df.loc[df['title'].str.contains('ethereum', case=False)])"
   ]
  },
  {
   "cell_type": "markdown",
   "metadata": {},
   "source": [
    "## Work on DF copy"
   ]
  },
  {
   "cell_type": "code",
   "execution_count": 14,
   "metadata": {
    "collapsed": true
   },
   "outputs": [],
   "source": [
    "df_key = df.copy()"
   ]
  },
  {
   "cell_type": "code",
   "execution_count": 15,
   "metadata": {
    "collapsed": false
   },
   "outputs": [],
   "source": [
    "df_key['author'] = df['author'].str.split(',', expand=True)[0]"
   ]
  },
  {
   "cell_type": "code",
   "execution_count": 16,
   "metadata": {
    "collapsed": false
   },
   "outputs": [],
   "source": [
    "df_key['author'] = df_key['author'].str.replace('Cointelegraph By ','')"
   ]
  },
  {
   "cell_type": "code",
   "execution_count": 17,
   "metadata": {
    "collapsed": false
   },
   "outputs": [],
   "source": [
    "df_key['author'] = df_key['author'].str.replace(')','')"
   ]
  },
  {
   "cell_type": "code",
   "execution_count": 18,
   "metadata": {
    "collapsed": false
   },
   "outputs": [],
   "source": [
    "df_key['author'] = df_key['author'].str.split('(', expand=True)[0]"
   ]
  },
  {
   "cell_type": "code",
   "execution_count": null,
   "metadata": {
    "collapsed": true
   },
   "outputs": [],
   "source": []
  },
  {
   "cell_type": "code",
   "execution_count": 19,
   "metadata": {
    "collapsed": false
   },
   "outputs": [],
   "source": [
    "df_key['crypto'] = df_key['title'].str.contains('crypto', case=False)"
   ]
  },
  {
   "cell_type": "code",
   "execution_count": 20,
   "metadata": {
    "collapsed": false
   },
   "outputs": [],
   "source": [
    "df_key['bitcoin'] = df_key['title'].str.contains('bitcoin', case=False)"
   ]
  },
  {
   "cell_type": "code",
   "execution_count": 21,
   "metadata": {
    "collapsed": true
   },
   "outputs": [],
   "source": [
    "df_key['ethereum'] = df_key['title'].str.contains('ethereum', case=False)"
   ]
  },
  {
   "cell_type": "code",
   "execution_count": null,
   "metadata": {
    "collapsed": true
   },
   "outputs": [],
   "source": []
  },
  {
   "cell_type": "code",
   "execution_count": null,
   "metadata": {
    "collapsed": true
   },
   "outputs": [],
   "source": []
  },
  {
   "cell_type": "code",
   "execution_count": null,
   "metadata": {
    "collapsed": true
   },
   "outputs": [],
   "source": []
  },
  {
   "cell_type": "code",
   "execution_count": null,
   "metadata": {
    "collapsed": true
   },
   "outputs": [],
   "source": []
  },
  {
   "cell_type": "code",
   "execution_count": null,
   "metadata": {
    "collapsed": true
   },
   "outputs": [],
   "source": []
  },
  {
   "cell_type": "markdown",
   "metadata": {},
   "source": [
    "## Title Sentiment Analysis"
   ]
  },
  {
   "cell_type": "code",
   "execution_count": 22,
   "metadata": {
    "collapsed": false
   },
   "outputs": [],
   "source": [
    "from vaderSentiment.vaderSentiment import SentimentIntensityAnalyzer"
   ]
  },
  {
   "cell_type": "code",
   "execution_count": 23,
   "metadata": {
    "collapsed": true
   },
   "outputs": [],
   "source": [
    "sentences = df['title']"
   ]
  },
  {
   "cell_type": "code",
   "execution_count": 24,
   "metadata": {
    "collapsed": true
   },
   "outputs": [],
   "source": [
    "analyzer = SentimentIntensityAnalyzer()"
   ]
  },
  {
   "cell_type": "code",
   "execution_count": 25,
   "metadata": {
    "collapsed": false,
    "scrolled": true
   },
   "outputs": [
    {
     "name": "stderr",
     "output_type": "stream",
     "text": [
      "/usr/lib/python3.7/site-packages/IPython/kernel/__main__.py:7: SettingWithCopyWarning: \n",
      "A value is trying to be set on a copy of a slice from a DataFrame\n",
      "\n",
      "See the caveats in the documentation: http://pandas.pydata.org/pandas-docs/stable/indexing.html#indexing-view-versus-copy\n",
      "/usr/lib/python3.7/site-packages/IPython/kernel/__main__.py:8: SettingWithCopyWarning: \n",
      "A value is trying to be set on a copy of a slice from a DataFrame\n",
      "\n",
      "See the caveats in the documentation: http://pandas.pydata.org/pandas-docs/stable/indexing.html#indexing-view-versus-copy\n",
      "/usr/lib/python3.7/site-packages/IPython/kernel/__main__.py:9: SettingWithCopyWarning: \n",
      "A value is trying to be set on a copy of a slice from a DataFrame\n",
      "\n",
      "See the caveats in the documentation: http://pandas.pydata.org/pandas-docs/stable/indexing.html#indexing-view-versus-copy\n",
      "/usr/lib/python3.7/site-packages/IPython/kernel/__main__.py:10: SettingWithCopyWarning: \n",
      "A value is trying to be set on a copy of a slice from a DataFrame\n",
      "\n",
      "See the caveats in the documentation: http://pandas.pydata.org/pandas-docs/stable/indexing.html#indexing-view-versus-copy\n"
     ]
    }
   ],
   "source": [
    "df_key['t_comp'] = pd.Series()\n",
    "df_key['t_neg'] = pd.Series()\n",
    "df_key['t_pos'] = pd.Series()\n",
    "df_key['t_neut'] = pd.Series()\n",
    "for i,v in enumerate(df_key['title']):\n",
    "    vs = analyzer.polarity_scores(v)\n",
    "    df_key['t_comp'][i] = vs['compound']\n",
    "    df_key['t_neg'][i] = vs['neg']\n",
    "    df_key['t_pos'][i] = vs['pos']\n",
    "    df_key['t_neut'][i] = vs['neu']"
   ]
  },
  {
   "cell_type": "code",
   "execution_count": 26,
   "metadata": {
    "collapsed": false
   },
   "outputs": [],
   "source": [
    "df_vs = df_key[['publishedAt', 'source_id', 't_comp', 't_neg', 't_pos', 't_neut']]"
   ]
  },
  {
   "cell_type": "code",
   "execution_count": 27,
   "metadata": {
    "collapsed": false
   },
   "outputs": [],
   "source": [
    "df_vs = df_vs.set_index('publishedAt')"
   ]
  },
  {
   "cell_type": "code",
   "execution_count": 28,
   "metadata": {
    "collapsed": false
   },
   "outputs": [],
   "source": [
    "df_vs = df_vs.sort_index()"
   ]
  },
  {
   "cell_type": "code",
   "execution_count": null,
   "metadata": {
    "collapsed": true
   },
   "outputs": [],
   "source": []
  },
  {
   "cell_type": "code",
   "execution_count": null,
   "metadata": {
    "collapsed": true
   },
   "outputs": [],
   "source": []
  },
  {
   "cell_type": "code",
   "execution_count": null,
   "metadata": {
    "collapsed": true
   },
   "outputs": [],
   "source": []
  },
  {
   "cell_type": "code",
   "execution_count": null,
   "metadata": {
    "collapsed": true
   },
   "outputs": [],
   "source": []
  },
  {
   "cell_type": "markdown",
   "metadata": {},
   "source": [
    "## Plotting"
   ]
  },
  {
   "cell_type": "code",
   "execution_count": 29,
   "metadata": {
    "collapsed": false
   },
   "outputs": [
    {
     "data": {
      "text/html": [
       "<div>\n",
       "<style scoped>\n",
       "    .dataframe tbody tr th:only-of-type {\n",
       "        vertical-align: middle;\n",
       "    }\n",
       "\n",
       "    .dataframe tbody tr th {\n",
       "        vertical-align: top;\n",
       "    }\n",
       "\n",
       "    .dataframe thead th {\n",
       "        text-align: right;\n",
       "    }\n",
       "</style>\n",
       "<table border=\"1\" class=\"dataframe\">\n",
       "  <thead>\n",
       "    <tr style=\"text-align: right;\">\n",
       "      <th></th>\n",
       "      <th>source_id</th>\n",
       "      <th>t_comp</th>\n",
       "      <th>t_neg</th>\n",
       "      <th>t_pos</th>\n",
       "      <th>t_neut</th>\n",
       "    </tr>\n",
       "    <tr>\n",
       "      <th>publishedAt</th>\n",
       "      <th></th>\n",
       "      <th></th>\n",
       "      <th></th>\n",
       "      <th></th>\n",
       "      <th></th>\n",
       "    </tr>\n",
       "  </thead>\n",
       "  <tbody>\n",
       "    <tr>\n",
       "      <th>2020-04-25 15:14:11</th>\n",
       "      <td>forbes</td>\n",
       "      <td>0.0000</td>\n",
       "      <td>0.000</td>\n",
       "      <td>0.000</td>\n",
       "      <td>1.000</td>\n",
       "    </tr>\n",
       "    <tr>\n",
       "      <th>2020-04-26 09:57:47</th>\n",
       "      <td>bloomberg</td>\n",
       "      <td>0.4549</td>\n",
       "      <td>0.000</td>\n",
       "      <td>0.271</td>\n",
       "      <td>0.729</td>\n",
       "    </tr>\n",
       "    <tr>\n",
       "      <th>2020-04-26 15:10:25</th>\n",
       "      <td>forbes</td>\n",
       "      <td>0.0000</td>\n",
       "      <td>0.000</td>\n",
       "      <td>0.000</td>\n",
       "      <td>1.000</td>\n",
       "    </tr>\n",
       "    <tr>\n",
       "      <th>2020-04-27 01:15:47</th>\n",
       "      <td>coindesk</td>\n",
       "      <td>-0.5719</td>\n",
       "      <td>0.209</td>\n",
       "      <td>0.000</td>\n",
       "      <td>0.791</td>\n",
       "    </tr>\n",
       "    <tr>\n",
       "      <th>2020-04-27 06:46:25</th>\n",
       "      <td>forbes</td>\n",
       "      <td>0.0000</td>\n",
       "      <td>0.000</td>\n",
       "      <td>0.000</td>\n",
       "      <td>1.000</td>\n",
       "    </tr>\n",
       "  </tbody>\n",
       "</table>\n",
       "</div>"
      ],
      "text/plain": [
       "                     source_id  t_comp  t_neg  t_pos  t_neut\n",
       "publishedAt                                                 \n",
       "2020-04-25 15:14:11     forbes  0.0000  0.000  0.000   1.000\n",
       "2020-04-26 09:57:47  bloomberg  0.4549  0.000  0.271   0.729\n",
       "2020-04-26 15:10:25     forbes  0.0000  0.000  0.000   1.000\n",
       "2020-04-27 01:15:47   coindesk -0.5719  0.209  0.000   0.791\n",
       "2020-04-27 06:46:25     forbes  0.0000  0.000  0.000   1.000"
      ]
     },
     "execution_count": 29,
     "metadata": {},
     "output_type": "execute_result"
    }
   ],
   "source": [
    "df_vs.head()"
   ]
  },
  {
   "cell_type": "code",
   "execution_count": 30,
   "metadata": {
    "collapsed": false
   },
   "outputs": [],
   "source": [
    "df_plot = df_vs.resample('D').mean()"
   ]
  },
  {
   "cell_type": "code",
   "execution_count": 31,
   "metadata": {
    "collapsed": true
   },
   "outputs": [],
   "source": [
    "df_plot = df_plot.sort_index()"
   ]
  },
  {
   "cell_type": "code",
   "execution_count": 32,
   "metadata": {
    "collapsed": true
   },
   "outputs": [],
   "source": [
    "import pandas as pd\n",
    "import numpy as np\n",
    "\n",
    "# Bokeh libraries\n",
    "from bokeh.io import output_file, output_notebook\n",
    "from bokeh.plotting import figure, show\n",
    "from bokeh.models import ColumnDataSource\n",
    "from bokeh.layouts import row, column, gridplot\n",
    "from bokeh.models.widgets import Tabs, Panel"
   ]
  },
  {
   "cell_type": "code",
   "execution_count": 47,
   "metadata": {
    "collapsed": true
   },
   "outputs": [],
   "source": [
    "from bokeh.plotting import reset_output\n",
    "\n",
    "# Use reset_output() between subsequent show() calls, as needed\n",
    "reset_output()"
   ]
  },
  {
   "cell_type": "code",
   "execution_count": 34,
   "metadata": {
    "collapsed": false
   },
   "outputs": [],
   "source": [
    "source = ColumnDataSource(df_plot)\n",
    "\n",
    "p = figure(x_axis_type='datetime', plot_width=800, plot_height=350)\n",
    "p.line('publishedAt', 't_comp', source=source)\n",
    "\n",
    "output_file(\"ts.html\")\n",
    "show(p)\n",
    "\n"
   ]
  },
  {
   "cell_type": "code",
   "execution_count": 49,
   "metadata": {
    "collapsed": false
   },
   "outputs": [],
   "source": [
    "source = ColumnDataSource(df_plot)\n",
    "\n",
    "p = figure(x_axis_type='datetime', plot_width=800, plot_height=350)\n",
    "p.vbar(x='publishedAt', width=1, top='t_comp', source=source)\n",
    "\n",
    "output_file(\"ts.html\")\n",
    "show(p)\n"
   ]
  },
  {
   "cell_type": "code",
   "execution_count": 48,
   "metadata": {
    "collapsed": false
   },
   "outputs": [],
   "source": [
    "source = ColumnDataSource(df_plot)\n",
    "\n",
    "p = figure(x_axis_type='datetime', plot_width=800, plot_height=350)\n",
    "p.vbar(x='publishedAt', width=0.5, top='t_comp', source=source)\n",
    "\n",
    "output_file(\"ts.html\")\n",
    "show(p)"
   ]
  },
  {
   "cell_type": "code",
   "execution_count": 51,
   "metadata": {
    "collapsed": false
   },
   "outputs": [],
   "source": [
    "from bokeh.io import output_file, show\n",
    "from bokeh.plotting import figure\n",
    "\n",
    "output_file(\"stacked.html\")\n",
    "\n",
    "fruits = ['Apples', 'Pears', 'Nectarines', 'Plums', 'Grapes', 'Strawberries']\n",
    "years = [\"2015\", \"2016\", \"2017\"]\n",
    "colors = [\"#c9d9d3\", \"#718dbf\", \"#e84d60\"]\n",
    "\n",
    "data = {'fruits' : fruits,\n",
    "        '2015'   : [2, 1, 4, 3, 2, 4],\n",
    "        '2016'   : [5, 3, 4, 2, 4, 6],\n",
    "        '2017'   : [3, 2, 4, 4, 5, 3]}\n",
    "\n",
    "p = figure(x_range=fruits, plot_height=250, title=\"Fruit Counts by Year\",\n",
    "           toolbar_location=None, tools=\"\")\n",
    "\n",
    "p.vbar_stack(years, x='fruits', width=0.9, color=colors, source=data)\n",
    "             #legend_label=years)\n",
    "\n",
    "p.y_range.start = 0\n",
    "p.x_range.range_padding = 0.1\n",
    "p.xgrid.grid_line_color = None\n",
    "p.axis.minor_tick_line_color = None\n",
    "p.outline_line_color = None\n",
    "p.legend.location = \"top_left\"\n",
    "p.legend.orientation = \"horizontal\"\n",
    "\n",
    "show(p)"
   ]
  },
  {
   "cell_type": "code",
   "execution_count": null,
   "metadata": {
    "collapsed": true
   },
   "outputs": [],
   "source": []
  }
 ],
 "metadata": {
  "kernelspec": {
   "display_name": "Python 3.7",
   "language": "python",
   "name": "python3.7"
  },
  "language_info": {
   "codemirror_mode": {
    "name": "ipython",
    "version": 3
   },
   "file_extension": ".py",
   "mimetype": "text/x-python",
   "name": "python",
   "nbconvert_exporter": "python",
   "pygments_lexer": "ipython3",
   "version": "3.7.0"
  }
 },
 "nbformat": 4,
 "nbformat_minor": 0
}
