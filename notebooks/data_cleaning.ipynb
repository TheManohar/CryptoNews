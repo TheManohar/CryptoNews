{
 "cells": [
  {
   "cell_type": "code",
   "execution_count": 1,
   "metadata": {
    "collapsed": false,
    "jupyter": {
     "outputs_hidden": false
    }
   },
   "outputs": [],
   "source": [
    "import pandas as pd\n",
    "import datetime\n",
    "import sys"
   ]
  },
  {
   "cell_type": "code",
   "execution_count": 2,
   "metadata": {},
   "outputs": [],
   "source": [
    "df = pd.read_pickle('200603-225635-df.pkl')\n",
    "df = df.set_index(['publishedAt'])"
   ]
  },
  {
   "cell_type": "markdown",
   "metadata": {},
   "source": [
    "# df_source"
   ]
  },
  {
   "cell_type": "code",
   "execution_count": 3,
   "metadata": {},
   "outputs": [],
   "source": [
    "df_source = pd.DataFrame(df['source_id'], columns=['source_id'])\n",
    "df_source['source_id'] = df_source['source_id'].astype('category')\n",
    "df_source = pd.get_dummies(df_source['source_id'])\n",
    "df_source = df_source.resample('D').sum()\n",
    "df_source = df_source.sort_index(ascending=False)"
   ]
  },
  {
   "cell_type": "code",
   "execution_count": 4,
   "metadata": {},
   "outputs": [
    {
     "data": {
      "text/html": [
       "<div>\n",
       "<style scoped>\n",
       "    .dataframe tbody tr th:only-of-type {\n",
       "        vertical-align: middle;\n",
       "    }\n",
       "\n",
       "    .dataframe tbody tr th {\n",
       "        vertical-align: top;\n",
       "    }\n",
       "\n",
       "    .dataframe thead th {\n",
       "        text-align: right;\n",
       "    }\n",
       "</style>\n",
       "<table border=\"1\" class=\"dataframe\">\n",
       "  <thead>\n",
       "    <tr style=\"text-align: right;\">\n",
       "      <th></th>\n",
       "      <th>+tribeca-film-festival</th>\n",
       "      <th>99bitcoins.com</th>\n",
       "      <th>abacus</th>\n",
       "      <th>apkmania.live</th>\n",
       "      <th>ars-technica</th>\n",
       "      <th>askubuntu.com</th>\n",
       "      <th>bbc-news</th>\n",
       "      <th>bitcoin-magazine</th>\n",
       "      <th>bitcoinist</th>\n",
       "      <th>bleacher-report</th>\n",
       "      <th>...</th>\n",
       "      <th>the-register</th>\n",
       "      <th>the-times-of-india</th>\n",
       "      <th>theregister.com</th>\n",
       "      <th>valuewalk</th>\n",
       "      <th>wccftech</th>\n",
       "      <th>whtc-news</th>\n",
       "      <th>wordpress.com</th>\n",
       "      <th>yahoo-entertainment</th>\n",
       "      <th>youtube</th>\n",
       "      <th>zerohedge.com</th>\n",
       "    </tr>\n",
       "    <tr>\n",
       "      <th>publishedAt</th>\n",
       "      <th></th>\n",
       "      <th></th>\n",
       "      <th></th>\n",
       "      <th></th>\n",
       "      <th></th>\n",
       "      <th></th>\n",
       "      <th></th>\n",
       "      <th></th>\n",
       "      <th></th>\n",
       "      <th></th>\n",
       "      <th></th>\n",
       "      <th></th>\n",
       "      <th></th>\n",
       "      <th></th>\n",
       "      <th></th>\n",
       "      <th></th>\n",
       "      <th></th>\n",
       "      <th></th>\n",
       "      <th></th>\n",
       "      <th></th>\n",
       "      <th></th>\n",
       "    </tr>\n",
       "  </thead>\n",
       "  <tbody>\n",
       "    <tr>\n",
       "      <th>2020-06-03</th>\n",
       "      <td>0</td>\n",
       "      <td>0</td>\n",
       "      <td>0</td>\n",
       "      <td>0</td>\n",
       "      <td>0</td>\n",
       "      <td>0</td>\n",
       "      <td>0</td>\n",
       "      <td>1</td>\n",
       "      <td>6</td>\n",
       "      <td>0</td>\n",
       "      <td>...</td>\n",
       "      <td>0</td>\n",
       "      <td>0</td>\n",
       "      <td>0</td>\n",
       "      <td>0</td>\n",
       "      <td>0</td>\n",
       "      <td>0</td>\n",
       "      <td>0</td>\n",
       "      <td>9</td>\n",
       "      <td>0</td>\n",
       "      <td>0</td>\n",
       "    </tr>\n",
       "    <tr>\n",
       "      <th>2020-06-02</th>\n",
       "      <td>0</td>\n",
       "      <td>0</td>\n",
       "      <td>1</td>\n",
       "      <td>0</td>\n",
       "      <td>0</td>\n",
       "      <td>0</td>\n",
       "      <td>0</td>\n",
       "      <td>0</td>\n",
       "      <td>6</td>\n",
       "      <td>0</td>\n",
       "      <td>...</td>\n",
       "      <td>0</td>\n",
       "      <td>1</td>\n",
       "      <td>1</td>\n",
       "      <td>0</td>\n",
       "      <td>1</td>\n",
       "      <td>1</td>\n",
       "      <td>0</td>\n",
       "      <td>16</td>\n",
       "      <td>0</td>\n",
       "      <td>1</td>\n",
       "    </tr>\n",
       "    <tr>\n",
       "      <th>2020-06-01</th>\n",
       "      <td>0</td>\n",
       "      <td>1</td>\n",
       "      <td>0</td>\n",
       "      <td>0</td>\n",
       "      <td>0</td>\n",
       "      <td>0</td>\n",
       "      <td>0</td>\n",
       "      <td>0</td>\n",
       "      <td>7</td>\n",
       "      <td>0</td>\n",
       "      <td>...</td>\n",
       "      <td>0</td>\n",
       "      <td>0</td>\n",
       "      <td>1</td>\n",
       "      <td>1</td>\n",
       "      <td>0</td>\n",
       "      <td>0</td>\n",
       "      <td>0</td>\n",
       "      <td>15</td>\n",
       "      <td>0</td>\n",
       "      <td>0</td>\n",
       "    </tr>\n",
       "    <tr>\n",
       "      <th>2020-05-31</th>\n",
       "      <td>0</td>\n",
       "      <td>0</td>\n",
       "      <td>0</td>\n",
       "      <td>0</td>\n",
       "      <td>0</td>\n",
       "      <td>0</td>\n",
       "      <td>0</td>\n",
       "      <td>0</td>\n",
       "      <td>5</td>\n",
       "      <td>0</td>\n",
       "      <td>...</td>\n",
       "      <td>0</td>\n",
       "      <td>0</td>\n",
       "      <td>0</td>\n",
       "      <td>0</td>\n",
       "      <td>0</td>\n",
       "      <td>0</td>\n",
       "      <td>0</td>\n",
       "      <td>3</td>\n",
       "      <td>0</td>\n",
       "      <td>0</td>\n",
       "    </tr>\n",
       "    <tr>\n",
       "      <th>2020-05-30</th>\n",
       "      <td>0</td>\n",
       "      <td>0</td>\n",
       "      <td>0</td>\n",
       "      <td>0</td>\n",
       "      <td>0</td>\n",
       "      <td>0</td>\n",
       "      <td>0</td>\n",
       "      <td>0</td>\n",
       "      <td>6</td>\n",
       "      <td>0</td>\n",
       "      <td>...</td>\n",
       "      <td>0</td>\n",
       "      <td>0</td>\n",
       "      <td>0</td>\n",
       "      <td>0</td>\n",
       "      <td>0</td>\n",
       "      <td>0</td>\n",
       "      <td>0</td>\n",
       "      <td>2</td>\n",
       "      <td>0</td>\n",
       "      <td>0</td>\n",
       "    </tr>\n",
       "  </tbody>\n",
       "</table>\n",
       "<p>5 rows × 79 columns</p>\n",
       "</div>"
      ],
      "text/plain": [
       "             +tribeca-film-festival  99bitcoins.com  abacus  apkmania.live  \\\n",
       "publishedAt                                                                  \n",
       "2020-06-03                        0               0       0              0   \n",
       "2020-06-02                        0               0       1              0   \n",
       "2020-06-01                        0               1       0              0   \n",
       "2020-05-31                        0               0       0              0   \n",
       "2020-05-30                        0               0       0              0   \n",
       "\n",
       "             ars-technica  askubuntu.com  bbc-news  bitcoin-magazine  \\\n",
       "publishedAt                                                            \n",
       "2020-06-03              0              0         0                 1   \n",
       "2020-06-02              0              0         0                 0   \n",
       "2020-06-01              0              0         0                 0   \n",
       "2020-05-31              0              0         0                 0   \n",
       "2020-05-30              0              0         0                 0   \n",
       "\n",
       "             bitcoinist  bleacher-report  ...  the-register  \\\n",
       "publishedAt                               ...                 \n",
       "2020-06-03            6                0  ...             0   \n",
       "2020-06-02            6                0  ...             0   \n",
       "2020-06-01            7                0  ...             0   \n",
       "2020-05-31            5                0  ...             0   \n",
       "2020-05-30            6                0  ...             0   \n",
       "\n",
       "             the-times-of-india  theregister.com  valuewalk  wccftech  \\\n",
       "publishedAt                                                             \n",
       "2020-06-03                    0                0          0         0   \n",
       "2020-06-02                    1                1          0         1   \n",
       "2020-06-01                    0                1          1         0   \n",
       "2020-05-31                    0                0          0         0   \n",
       "2020-05-30                    0                0          0         0   \n",
       "\n",
       "             whtc-news  wordpress.com  yahoo-entertainment  youtube  \\\n",
       "publishedAt                                                           \n",
       "2020-06-03           0              0                    9        0   \n",
       "2020-06-02           1              0                   16        0   \n",
       "2020-06-01           0              0                   15        0   \n",
       "2020-05-31           0              0                    3        0   \n",
       "2020-05-30           0              0                    2        0   \n",
       "\n",
       "             zerohedge.com  \n",
       "publishedAt                 \n",
       "2020-06-03               0  \n",
       "2020-06-02               1  \n",
       "2020-06-01               0  \n",
       "2020-05-31               0  \n",
       "2020-05-30               0  \n",
       "\n",
       "[5 rows x 79 columns]"
      ]
     },
     "execution_count": 4,
     "metadata": {},
     "output_type": "execute_result"
    }
   ],
   "source": [
    "df_source.head()"
   ]
  },
  {
   "cell_type": "markdown",
   "metadata": {},
   "source": [
    "# df_clean"
   ]
  },
  {
   "cell_type": "markdown",
   "metadata": {},
   "source": [
    "## add keyword columns"
   ]
  },
  {
   "cell_type": "code",
   "execution_count": 5,
   "metadata": {},
   "outputs": [],
   "source": [
    "df_clean = df.copy()"
   ]
  },
  {
   "cell_type": "code",
   "execution_count": 6,
   "metadata": {
    "collapsed": false,
    "jupyter": {
     "outputs_hidden": false
    }
   },
   "outputs": [],
   "source": [
    "df_clean['crypto'] = df_clean['title'].str.contains('crypto', case=False)\n",
    "df_clean['bitcoin'] = df_clean['title'].str.contains('bitcoin', case=False)\n",
    "df_clean['ethereum'] = df_clean['title'].str.contains('ethereum', case=False)"
   ]
  },
  {
   "cell_type": "code",
   "execution_count": 7,
   "metadata": {},
   "outputs": [
    {
     "data": {
      "text/plain": [
       "<matplotlib.axes._subplots.AxesSubplot at 0x1e024f61088>"
      ]
     },
     "execution_count": 7,
     "metadata": {},
     "output_type": "execute_result"
    },
    {
     "data": {
      "image/png": "[encoded data removed]",
      "text/plain": [
       "<Figure size 432x288 with 1 Axes>"
      ]
     },
     "metadata": {
      "needs_background": "light"
     },
     "output_type": "display_data"
    }
   ],
   "source": [
    "df_count = df_clean[['crypto','bitcoin','ethereum']]\n",
    "df_count = df_count.resample('D').sum()\n",
    "df_count = df_count.sort_index(ascending=False)\n",
    "df_count.plot()"
   ]
  },
  {
   "cell_type": "markdown",
   "metadata": {},
   "source": [
    "## clean `df['author']`"
   ]
  },
  {
   "cell_type": "code",
   "execution_count": 8,
   "metadata": {
    "collapsed": false,
    "jupyter": {
     "outputs_hidden": false
    }
   },
   "outputs": [],
   "source": [
    "df_clean['author'] = df['author'].str.split(',', expand=True)[0]\n",
    "df_clean['author'] = df_clean['author'].str.replace('Cointelegraph By ','')\n",
    "df_clean['author'] = df_clean['author'].str.replace(')','')\n",
    "df_clean['author'] = df_clean['author'].str.split('(', expand=True)[0]"
   ]
  },
  {
   "cell_type": "markdown",
   "metadata": {},
   "source": [
    "## clean `df['description']`"
   ]
  },
  {
   "cell_type": "code",
   "execution_count": 9,
   "metadata": {},
   "outputs": [
    {
     "name": "stderr",
     "output_type": "stream",
     "text": [
      "C:\\Users\\manoh\\anaconda3\\envs\\data_analysis\\lib\\site-packages\\ipykernel_launcher.py:3: SettingWithCopyWarning: \n",
      "A value is trying to be set on a copy of a slice from a DataFrame\n",
      "\n",
      "See the caveats in the documentation: https://pandas.pydata.org/pandas-docs/stable/user_guide/indexing.html#returning-a-view-versus-a-copy\n",
      "  This is separate from the ipykernel package so we can avoid doing imports until\n"
     ]
    }
   ],
   "source": [
    "for i,v in enumerate(df_clean['description']):\n",
    "    if str(v).endswith('…'):\n",
    "        df_clean['description'][i] = v[:-1]"
   ]
  },
  {
   "cell_type": "markdown",
   "metadata": {},
   "source": [
    "## clean `df['content']`"
   ]
  },
  {
   "cell_type": "code",
   "execution_count": 10,
   "metadata": {},
   "outputs": [
    {
     "name": "stderr",
     "output_type": "stream",
     "text": [
      "C:\\Users\\manoh\\anaconda3\\envs\\data_analysis\\lib\\site-packages\\ipykernel_launcher.py:3: SettingWithCopyWarning: \n",
      "A value is trying to be set on a copy of a slice from a DataFrame\n",
      "\n",
      "See the caveats in the documentation: https://pandas.pydata.org/pandas-docs/stable/user_guide/indexing.html#returning-a-view-versus-a-copy\n",
      "  This is separate from the ipykernel package so we can avoid doing imports until\n"
     ]
    }
   ],
   "source": [
    "for i,v in enumerate(df_clean['content']):\n",
    "    if str(v).endswith(' chars]'):\n",
    "        df_clean['content'][i] = v[:-16]"
   ]
  },
  {
   "cell_type": "code",
   "execution_count": 11,
   "metadata": {},
   "outputs": [
    {
     "data": {
      "text/html": [
       "<div>\n",
       "<style scoped>\n",
       "    .dataframe tbody tr th:only-of-type {\n",
       "        vertical-align: middle;\n",
       "    }\n",
       "\n",
       "    .dataframe tbody tr th {\n",
       "        vertical-align: top;\n",
       "    }\n",
       "\n",
       "    .dataframe thead th {\n",
       "        text-align: right;\n",
       "    }\n",
       "</style>\n",
       "<table border=\"1\" class=\"dataframe\">\n",
       "  <thead>\n",
       "    <tr style=\"text-align: right;\">\n",
       "      <th></th>\n",
       "      <th>source</th>\n",
       "      <th>source_id</th>\n",
       "      <th>author</th>\n",
       "      <th>title</th>\n",
       "      <th>description</th>\n",
       "      <th>content</th>\n",
       "      <th>url</th>\n",
       "      <th>crypto</th>\n",
       "      <th>bitcoin</th>\n",
       "      <th>ethereum</th>\n",
       "    </tr>\n",
       "    <tr>\n",
       "      <th>publishedAt</th>\n",
       "      <th></th>\n",
       "      <th></th>\n",
       "      <th></th>\n",
       "      <th></th>\n",
       "      <th></th>\n",
       "      <th></th>\n",
       "      <th></th>\n",
       "      <th></th>\n",
       "      <th></th>\n",
       "      <th></th>\n",
       "    </tr>\n",
       "  </thead>\n",
       "  <tbody>\n",
       "    <tr>\n",
       "      <th>2020-04-25 15:14:11</th>\n",
       "      <td>Forbes</td>\n",
       "      <td>forbes</td>\n",
       "      <td>Biser Dimitrov</td>\n",
       "      <td>Big Four Accounting Firm Wants To Empower Ente...</td>\n",
       "      <td>Using the public Ethereum blockchain for enter...</td>\n",
       "      <td>Paul Brody, Global Blockchain Innovation Leade...</td>\n",
       "      <td>https://www.forbes.com/sites/biserdimitrov/202...</td>\n",
       "      <td>False</td>\n",
       "      <td>False</td>\n",
       "      <td>True</td>\n",
       "    </tr>\n",
       "    <tr>\n",
       "      <th>2020-04-26 09:57:47</th>\n",
       "      <td>Bloomberg</td>\n",
       "      <td>bloomberg</td>\n",
       "      <td>None</td>\n",
       "      <td>Swiss 'Crypto Valley' In Talks for More Financ...</td>\n",
       "      <td>None</td>\n",
       "      <td>None</td>\n",
       "      <td>https://www.bloomberg.com/news/articles/2020-0...</td>\n",
       "      <td>True</td>\n",
       "      <td>False</td>\n",
       "      <td>False</td>\n",
       "    </tr>\n",
       "    <tr>\n",
       "      <th>2020-04-26 15:10:25</th>\n",
       "      <td>Forbes</td>\n",
       "      <td>forbes</td>\n",
       "      <td>Crypto Confidential</td>\n",
       "      <td>Bitcoin Hits April High; Crypto Portfolios Get...</td>\n",
       "      <td>The number of deposits of exactly $1,200 more ...</td>\n",
       "      <td>Get Forbes' top crypto and blockchain stories ...</td>\n",
       "      <td>https://www.forbes.com/sites/cryptoconfidentia...</td>\n",
       "      <td>True</td>\n",
       "      <td>True</td>\n",
       "      <td>False</td>\n",
       "    </tr>\n",
       "    <tr>\n",
       "      <th>2020-04-27 01:15:47</th>\n",
       "      <td>CoinDesk</td>\n",
       "      <td>coindesk</td>\n",
       "      <td>Noelle Acheson</td>\n",
       "      <td>Crypto Long &amp; Short: How Oil Going Negative Co...</td>\n",
       "      <td>The economic repercussions of oil going negati...</td>\n",
       "      <td>This will always be remembered as the week whe...</td>\n",
       "      <td>https://www.coindesk.com/oil-going-negative-bi...</td>\n",
       "      <td>True</td>\n",
       "      <td>True</td>\n",
       "      <td>False</td>\n",
       "    </tr>\n",
       "    <tr>\n",
       "      <th>2020-04-27 06:46:25</th>\n",
       "      <td>Forbes</td>\n",
       "      <td>forbes</td>\n",
       "      <td>Luke Fitzpatrick</td>\n",
       "      <td>Bitcoin Halving: A New Class Of Bitcoin Millio...</td>\n",
       "      <td>The third bitcoin halving could be a major cat...</td>\n",
       "      <td>The photo shows a physical imitation of a Bitc...</td>\n",
       "      <td>https://www.forbes.com/sites/lukefitzpatrick/2...</td>\n",
       "      <td>False</td>\n",
       "      <td>True</td>\n",
       "      <td>False</td>\n",
       "    </tr>\n",
       "  </tbody>\n",
       "</table>\n",
       "</div>"
      ],
      "text/plain": [
       "                        source  source_id               author  \\\n",
       "publishedAt                                                      \n",
       "2020-04-25 15:14:11     Forbes     forbes       Biser Dimitrov   \n",
       "2020-04-26 09:57:47  Bloomberg  bloomberg                 None   \n",
       "2020-04-26 15:10:25     Forbes     forbes  Crypto Confidential   \n",
       "2020-04-27 01:15:47   CoinDesk   coindesk       Noelle Acheson   \n",
       "2020-04-27 06:46:25     Forbes     forbes     Luke Fitzpatrick   \n",
       "\n",
       "                                                                 title  \\\n",
       "publishedAt                                                              \n",
       "2020-04-25 15:14:11  Big Four Accounting Firm Wants To Empower Ente...   \n",
       "2020-04-26 09:57:47  Swiss 'Crypto Valley' In Talks for More Financ...   \n",
       "2020-04-26 15:10:25  Bitcoin Hits April High; Crypto Portfolios Get...   \n",
       "2020-04-27 01:15:47  Crypto Long & Short: How Oil Going Negative Co...   \n",
       "2020-04-27 06:46:25  Bitcoin Halving: A New Class Of Bitcoin Millio...   \n",
       "\n",
       "                                                           description  \\\n",
       "publishedAt                                                              \n",
       "2020-04-25 15:14:11  Using the public Ethereum blockchain for enter...   \n",
       "2020-04-26 09:57:47                                               None   \n",
       "2020-04-26 15:10:25  The number of deposits of exactly $1,200 more ...   \n",
       "2020-04-27 01:15:47  The economic repercussions of oil going negati...   \n",
       "2020-04-27 06:46:25  The third bitcoin halving could be a major cat...   \n",
       "\n",
       "                                                               content  \\\n",
       "publishedAt                                                              \n",
       "2020-04-25 15:14:11  Paul Brody, Global Blockchain Innovation Leade...   \n",
       "2020-04-26 09:57:47                                               None   \n",
       "2020-04-26 15:10:25  Get Forbes' top crypto and blockchain stories ...   \n",
       "2020-04-27 01:15:47  This will always be remembered as the week whe...   \n",
       "2020-04-27 06:46:25  The photo shows a physical imitation of a Bitc...   \n",
       "\n",
       "                                                                   url  \\\n",
       "publishedAt                                                              \n",
       "2020-04-25 15:14:11  https://www.forbes.com/sites/biserdimitrov/202...   \n",
       "2020-04-26 09:57:47  https://www.bloomberg.com/news/articles/2020-0...   \n",
       "2020-04-26 15:10:25  https://www.forbes.com/sites/cryptoconfidentia...   \n",
       "2020-04-27 01:15:47  https://www.coindesk.com/oil-going-negative-bi...   \n",
       "2020-04-27 06:46:25  https://www.forbes.com/sites/lukefitzpatrick/2...   \n",
       "\n",
       "                     crypto  bitcoin  ethereum  \n",
       "publishedAt                                     \n",
       "2020-04-25 15:14:11   False    False      True  \n",
       "2020-04-26 09:57:47    True    False     False  \n",
       "2020-04-26 15:10:25    True     True     False  \n",
       "2020-04-27 01:15:47    True     True     False  \n",
       "2020-04-27 06:46:25   False     True     False  "
      ]
     },
     "execution_count": 11,
     "metadata": {},
     "output_type": "execute_result"
    }
   ],
   "source": [
    "df_clean.head()"
   ]
  },
  {
   "cell_type": "code",
   "execution_count": null,
   "metadata": {},
   "outputs": [],
   "source": []
  },
  {
   "cell_type": "markdown",
   "metadata": {},
   "source": [
    "# df_scores"
   ]
  },
  {
   "cell_type": "markdown",
   "metadata": {},
   "source": [
    "## Calculate Sentiment Scores"
   ]
  },
  {
   "cell_type": "code",
   "execution_count": 12,
   "metadata": {
    "collapsed": false,
    "jupyter": {
     "outputs_hidden": false
    }
   },
   "outputs": [],
   "source": [
    "from vaderSentiment.vaderSentiment import SentimentIntensityAnalyzer"
   ]
  },
  {
   "cell_type": "code",
   "execution_count": 13,
   "metadata": {},
   "outputs": [],
   "source": [
    "analyzer = SentimentIntensityAnalyzer()"
   ]
  },
  {
   "cell_type": "code",
   "execution_count": 14,
   "metadata": {
    "collapsed": false,
    "jupyter": {
     "outputs_hidden": false
    },
    "scrolled": true
   },
   "outputs": [
    {
     "name": "stderr",
     "output_type": "stream",
     "text": [
      "C:\\Users\\manoh\\anaconda3\\envs\\data_analysis\\lib\\site-packages\\ipykernel_launcher.py:1: DeprecationWarning: The default dtype for empty Series will be 'object' instead of 'float64' in a future version. Specify a dtype explicitly to silence this warning.\n",
      "  \"\"\"Entry point for launching an IPython kernel.\n",
      "C:\\Users\\manoh\\anaconda3\\envs\\data_analysis\\lib\\site-packages\\ipykernel_launcher.py:4: SettingWithCopyWarning: \n",
      "A value is trying to be set on a copy of a slice from a DataFrame\n",
      "\n",
      "See the caveats in the documentation: https://pandas.pydata.org/pandas-docs/stable/user_guide/indexing.html#returning-a-view-versus-a-copy\n",
      "  after removing the cwd from sys.path.\n"
     ]
    }
   ],
   "source": [
    "df_clean['t_score'] = pd.Series()\n",
    "for i,v in enumerate(df_clean['title']):\n",
    "    vs = analyzer.polarity_scores(v)\n",
    "    df_clean['t_score'][i] = vs['compound'] "
   ]
  },
  {
   "cell_type": "code",
   "execution_count": 15,
   "metadata": {},
   "outputs": [
    {
     "name": "stderr",
     "output_type": "stream",
     "text": [
      "C:\\Users\\manoh\\anaconda3\\envs\\data_analysis\\lib\\site-packages\\ipykernel_launcher.py:5: SettingWithCopyWarning: \n",
      "A value is trying to be set on a copy of a slice from a DataFrame\n",
      "\n",
      "See the caveats in the documentation: https://pandas.pydata.org/pandas-docs/stable/user_guide/indexing.html#returning-a-view-versus-a-copy\n",
      "  \"\"\"\n",
      "C:\\Users\\manoh\\anaconda3\\envs\\data_analysis\\lib\\site-packages\\ipykernel_launcher.py:7: SettingWithCopyWarning: \n",
      "A value is trying to be set on a copy of a slice from a DataFrame\n",
      "\n",
      "See the caveats in the documentation: https://pandas.pydata.org/pandas-docs/stable/user_guide/indexing.html#returning-a-view-versus-a-copy\n",
      "  import sys\n"
     ]
    }
   ],
   "source": [
    "df_clean['d_score'] = pd.Series(dtype='float')\n",
    "for i,v in enumerate(df_clean['description']):\n",
    "    try:\n",
    "        vs = analyzer.polarity_scores(v)\n",
    "        df_clean['d_score'][i] = vs['compound']\n",
    "    except:\n",
    "        df_clean['d_score'][i] = 0"
   ]
  },
  {
   "cell_type": "code",
   "execution_count": 16,
   "metadata": {},
   "outputs": [
    {
     "name": "stderr",
     "output_type": "stream",
     "text": [
      "C:\\Users\\manoh\\anaconda3\\envs\\data_analysis\\lib\\site-packages\\ipykernel_launcher.py:1: DeprecationWarning: The default dtype for empty Series will be 'object' instead of 'float64' in a future version. Specify a dtype explicitly to silence this warning.\n",
      "  \"\"\"Entry point for launching an IPython kernel.\n",
      "C:\\Users\\manoh\\anaconda3\\envs\\data_analysis\\lib\\site-packages\\ipykernel_launcher.py:5: SettingWithCopyWarning: \n",
      "A value is trying to be set on a copy of a slice from a DataFrame\n",
      "\n",
      "See the caveats in the documentation: https://pandas.pydata.org/pandas-docs/stable/user_guide/indexing.html#returning-a-view-versus-a-copy\n",
      "  \"\"\"\n",
      "C:\\Users\\manoh\\anaconda3\\envs\\data_analysis\\lib\\site-packages\\ipykernel_launcher.py:7: SettingWithCopyWarning: \n",
      "A value is trying to be set on a copy of a slice from a DataFrame\n",
      "\n",
      "See the caveats in the documentation: https://pandas.pydata.org/pandas-docs/stable/user_guide/indexing.html#returning-a-view-versus-a-copy\n",
      "  import sys\n"
     ]
    }
   ],
   "source": [
    "df_clean['c_score'] = pd.Series()\n",
    "for i,v in enumerate(df_clean['content']):\n",
    "    try:\n",
    "        vs = analyzer.polarity_scores(v)\n",
    "        df_clean['c_score'][i] = vs['compound']\n",
    "    except:\n",
    "        df_clean['c_score'][i] = 0"
   ]
  },
  {
   "cell_type": "markdown",
   "metadata": {},
   "source": [
    "## Add scores to df_clean"
   ]
  },
  {
   "cell_type": "code",
   "execution_count": 17,
   "metadata": {},
   "outputs": [],
   "source": [
    "df_clean['avg_score'] = (df_clean['t_score'] + df_clean['d_score'] + df_clean['c_score']) / 3"
   ]
  },
  {
   "cell_type": "code",
   "execution_count": 18,
   "metadata": {},
   "outputs": [
    {
     "data": {
      "text/html": [
       "<div>\n",
       "<style scoped>\n",
       "    .dataframe tbody tr th:only-of-type {\n",
       "        vertical-align: middle;\n",
       "    }\n",
       "\n",
       "    .dataframe tbody tr th {\n",
       "        vertical-align: top;\n",
       "    }\n",
       "\n",
       "    .dataframe thead th {\n",
       "        text-align: right;\n",
       "    }\n",
       "</style>\n",
       "<table border=\"1\" class=\"dataframe\">\n",
       "  <thead>\n",
       "    <tr style=\"text-align: right;\">\n",
       "      <th></th>\n",
       "      <th>source</th>\n",
       "      <th>source_id</th>\n",
       "      <th>author</th>\n",
       "      <th>title</th>\n",
       "      <th>description</th>\n",
       "      <th>content</th>\n",
       "      <th>url</th>\n",
       "      <th>crypto</th>\n",
       "      <th>bitcoin</th>\n",
       "      <th>ethereum</th>\n",
       "      <th>t_score</th>\n",
       "      <th>d_score</th>\n",
       "      <th>c_score</th>\n",
       "      <th>avg_score</th>\n",
       "    </tr>\n",
       "    <tr>\n",
       "      <th>publishedAt</th>\n",
       "      <th></th>\n",
       "      <th></th>\n",
       "      <th></th>\n",
       "      <th></th>\n",
       "      <th></th>\n",
       "      <th></th>\n",
       "      <th></th>\n",
       "      <th></th>\n",
       "      <th></th>\n",
       "      <th></th>\n",
       "      <th></th>\n",
       "      <th></th>\n",
       "      <th></th>\n",
       "      <th></th>\n",
       "    </tr>\n",
       "  </thead>\n",
       "  <tbody>\n",
       "    <tr>\n",
       "      <th>2020-04-25 15:14:11</th>\n",
       "      <td>Forbes</td>\n",
       "      <td>forbes</td>\n",
       "      <td>Biser Dimitrov</td>\n",
       "      <td>Big Four Accounting Firm Wants To Empower Ente...</td>\n",
       "      <td>Using the public Ethereum blockchain for enter...</td>\n",
       "      <td>Paul Brody, Global Blockchain Innovation Leade...</td>\n",
       "      <td>https://www.forbes.com/sites/biserdimitrov/202...</td>\n",
       "      <td>False</td>\n",
       "      <td>False</td>\n",
       "      <td>True</td>\n",
       "      <td>0.0000</td>\n",
       "      <td>0.4215</td>\n",
       "      <td>0.1531</td>\n",
       "      <td>0.191533</td>\n",
       "    </tr>\n",
       "    <tr>\n",
       "      <th>2020-04-26 09:57:47</th>\n",
       "      <td>Bloomberg</td>\n",
       "      <td>bloomberg</td>\n",
       "      <td>None</td>\n",
       "      <td>Swiss 'Crypto Valley' In Talks for More Financ...</td>\n",
       "      <td>None</td>\n",
       "      <td>None</td>\n",
       "      <td>https://www.bloomberg.com/news/articles/2020-0...</td>\n",
       "      <td>True</td>\n",
       "      <td>False</td>\n",
       "      <td>False</td>\n",
       "      <td>0.4549</td>\n",
       "      <td>0.0000</td>\n",
       "      <td>0.0000</td>\n",
       "      <td>0.151633</td>\n",
       "    </tr>\n",
       "    <tr>\n",
       "      <th>2020-04-26 15:10:25</th>\n",
       "      <td>Forbes</td>\n",
       "      <td>forbes</td>\n",
       "      <td>Crypto Confidential</td>\n",
       "      <td>Bitcoin Hits April High; Crypto Portfolios Get...</td>\n",
       "      <td>The number of deposits of exactly $1,200 more ...</td>\n",
       "      <td>Get Forbes' top crypto and blockchain stories ...</td>\n",
       "      <td>https://www.forbes.com/sites/cryptoconfidentia...</td>\n",
       "      <td>True</td>\n",
       "      <td>True</td>\n",
       "      <td>False</td>\n",
       "      <td>0.0000</td>\n",
       "      <td>0.0772</td>\n",
       "      <td>0.2023</td>\n",
       "      <td>0.093167</td>\n",
       "    </tr>\n",
       "    <tr>\n",
       "      <th>2020-04-27 01:15:47</th>\n",
       "      <td>CoinDesk</td>\n",
       "      <td>coindesk</td>\n",
       "      <td>Noelle Acheson</td>\n",
       "      <td>Crypto Long &amp; Short: How Oil Going Negative Co...</td>\n",
       "      <td>The economic repercussions of oil going negati...</td>\n",
       "      <td>This will always be remembered as the week whe...</td>\n",
       "      <td>https://www.coindesk.com/oil-going-negative-bi...</td>\n",
       "      <td>True</td>\n",
       "      <td>True</td>\n",
       "      <td>False</td>\n",
       "      <td>-0.5719</td>\n",
       "      <td>0.2960</td>\n",
       "      <td>-0.3291</td>\n",
       "      <td>-0.201667</td>\n",
       "    </tr>\n",
       "    <tr>\n",
       "      <th>2020-04-27 06:46:25</th>\n",
       "      <td>Forbes</td>\n",
       "      <td>forbes</td>\n",
       "      <td>Luke Fitzpatrick</td>\n",
       "      <td>Bitcoin Halving: A New Class Of Bitcoin Millio...</td>\n",
       "      <td>The third bitcoin halving could be a major cat...</td>\n",
       "      <td>The photo shows a physical imitation of a Bitc...</td>\n",
       "      <td>https://www.forbes.com/sites/lukefitzpatrick/2...</td>\n",
       "      <td>False</td>\n",
       "      <td>True</td>\n",
       "      <td>False</td>\n",
       "      <td>0.0000</td>\n",
       "      <td>0.0000</td>\n",
       "      <td>0.0000</td>\n",
       "      <td>0.000000</td>\n",
       "    </tr>\n",
       "  </tbody>\n",
       "</table>\n",
       "</div>"
      ],
      "text/plain": [
       "                        source  source_id               author  \\\n",
       "publishedAt                                                      \n",
       "2020-04-25 15:14:11     Forbes     forbes       Biser Dimitrov   \n",
       "2020-04-26 09:57:47  Bloomberg  bloomberg                 None   \n",
       "2020-04-26 15:10:25     Forbes     forbes  Crypto Confidential   \n",
       "2020-04-27 01:15:47   CoinDesk   coindesk       Noelle Acheson   \n",
       "2020-04-27 06:46:25     Forbes     forbes     Luke Fitzpatrick   \n",
       "\n",
       "                                                                 title  \\\n",
       "publishedAt                                                              \n",
       "2020-04-25 15:14:11  Big Four Accounting Firm Wants To Empower Ente...   \n",
       "2020-04-26 09:57:47  Swiss 'Crypto Valley' In Talks for More Financ...   \n",
       "2020-04-26 15:10:25  Bitcoin Hits April High; Crypto Portfolios Get...   \n",
       "2020-04-27 01:15:47  Crypto Long & Short: How Oil Going Negative Co...   \n",
       "2020-04-27 06:46:25  Bitcoin Halving: A New Class Of Bitcoin Millio...   \n",
       "\n",
       "                                                           description  \\\n",
       "publishedAt                                                              \n",
       "2020-04-25 15:14:11  Using the public Ethereum blockchain for enter...   \n",
       "2020-04-26 09:57:47                                               None   \n",
       "2020-04-26 15:10:25  The number of deposits of exactly $1,200 more ...   \n",
       "2020-04-27 01:15:47  The economic repercussions of oil going negati...   \n",
       "2020-04-27 06:46:25  The third bitcoin halving could be a major cat...   \n",
       "\n",
       "                                                               content  \\\n",
       "publishedAt                                                              \n",
       "2020-04-25 15:14:11  Paul Brody, Global Blockchain Innovation Leade...   \n",
       "2020-04-26 09:57:47                                               None   \n",
       "2020-04-26 15:10:25  Get Forbes' top crypto and blockchain stories ...   \n",
       "2020-04-27 01:15:47  This will always be remembered as the week whe...   \n",
       "2020-04-27 06:46:25  The photo shows a physical imitation of a Bitc...   \n",
       "\n",
       "                                                                   url  \\\n",
       "publishedAt                                                              \n",
       "2020-04-25 15:14:11  https://www.forbes.com/sites/biserdimitrov/202...   \n",
       "2020-04-26 09:57:47  https://www.bloomberg.com/news/articles/2020-0...   \n",
       "2020-04-26 15:10:25  https://www.forbes.com/sites/cryptoconfidentia...   \n",
       "2020-04-27 01:15:47  https://www.coindesk.com/oil-going-negative-bi...   \n",
       "2020-04-27 06:46:25  https://www.forbes.com/sites/lukefitzpatrick/2...   \n",
       "\n",
       "                     crypto  bitcoin  ethereum  t_score  d_score  c_score  \\\n",
       "publishedAt                                                                 \n",
       "2020-04-25 15:14:11   False    False      True   0.0000   0.4215   0.1531   \n",
       "2020-04-26 09:57:47    True    False     False   0.4549   0.0000   0.0000   \n",
       "2020-04-26 15:10:25    True     True     False   0.0000   0.0772   0.2023   \n",
       "2020-04-27 01:15:47    True     True     False  -0.5719   0.2960  -0.3291   \n",
       "2020-04-27 06:46:25   False     True     False   0.0000   0.0000   0.0000   \n",
       "\n",
       "                     avg_score  \n",
       "publishedAt                     \n",
       "2020-04-25 15:14:11   0.191533  \n",
       "2020-04-26 09:57:47   0.151633  \n",
       "2020-04-26 15:10:25   0.093167  \n",
       "2020-04-27 01:15:47  -0.201667  \n",
       "2020-04-27 06:46:25   0.000000  "
      ]
     },
     "execution_count": 18,
     "metadata": {},
     "output_type": "execute_result"
    }
   ],
   "source": [
    "df_clean.head()"
   ]
  },
  {
   "cell_type": "markdown",
   "metadata": {},
   "source": [
    "## Daily Sentiment per keyword"
   ]
  },
  {
   "cell_type": "code",
   "execution_count": 40,
   "metadata": {},
   "outputs": [
    {
     "data": {
      "text/plain": [
       "176"
      ]
     },
     "execution_count": 40,
     "metadata": {},
     "output_type": "execute_result"
    }
   ],
   "source": [
    "len(df_clean.loc[(df_clean['crypto']==True)])"
   ]
  },
  {
   "cell_type": "code",
   "execution_count": 41,
   "metadata": {},
   "outputs": [
    {
     "data": {
      "text/plain": [
       "159"
      ]
     },
     "execution_count": 41,
     "metadata": {},
     "output_type": "execute_result"
    }
   ],
   "source": [
    "len(df_clean.loc[(df_clean['crypto']==True) & (df_clean['avg_score']!=0)]['avg_score'])"
   ]
  },
  {
   "cell_type": "code",
   "execution_count": 63,
   "metadata": {},
   "outputs": [
    {
     "data": {
      "text/plain": [
       "<matplotlib.axes._subplots.AxesSubplot at 0x1e02a341b88>"
      ]
     },
     "execution_count": 63,
     "metadata": {},
     "output_type": "execute_result"
    },
    {
     "data": {
      "image/png": "[encoded data removed]",
      "text/plain": [
       "<Figure size 432x288 with 1 Axes>"
      ]
     },
     "metadata": {
      "needs_background": "light"
     },
     "output_type": "display_data"
    }
   ],
   "source": [
    "CRY_score = pd.DataFrame(df_clean.loc[(df_clean['crypto']==True) & (df_clean['avg_score']!=0)]['avg_score'])\n",
    "CRY_score = CRY_score.resample('D').mean()\n",
    "CRY_score = CRY_score.sort_index(ascending=True)\n",
    "CRY_score[-7:].plot(kind='bar')"
   ]
  },
  {
   "cell_type": "code",
   "execution_count": 64,
   "metadata": {},
   "outputs": [
    {
     "data": {
      "text/plain": [
       "<matplotlib.axes._subplots.AxesSubplot at 0x1e029e257c8>"
      ]
     },
     "execution_count": 64,
     "metadata": {},
     "output_type": "execute_result"
    },
    {
     "data": {
      "image/png": "[encoded data removed]",
      "text/plain": [
       "<Figure size 432x288 with 1 Axes>"
      ]
     },
     "metadata": {
      "needs_background": "light"
     },
     "output_type": "display_data"
    }
   ],
   "source": [
    "BTC_score = pd.DataFrame(df_clean.loc[(df_clean['bitcoin']==True) & (df_clean['avg_score']!=0)]['avg_score'])\n",
    "BTC_score = BTC_score.resample('D').mean()\n",
    "BTC_score = BTC_score.sort_index(ascending=True)\n",
    "BTC_score[-7:].plot(kind='bar')"
   ]
  },
  {
   "cell_type": "code",
   "execution_count": 65,
   "metadata": {},
   "outputs": [
    {
     "data": {
      "text/plain": [
       "<matplotlib.axes._subplots.AxesSubplot at 0x1e02a3f3148>"
      ]
     },
     "execution_count": 65,
     "metadata": {},
     "output_type": "execute_result"
    },
    {
     "data": {
      "image/png": "[encoded data removed]",
      "text/plain": [
       "<Figure size 432x288 with 1 Axes>"
      ]
     },
     "metadata": {
      "needs_background": "light"
     },
     "output_type": "display_data"
    }
   ],
   "source": [
    "ETH_score = pd.DataFramecountlean.loc[(df_clean['ethereum']==True) & (df_clean['avg_score']!=0)]['avg_score'])\n",
    "ETH_score = ETH_score.resample('D').mean()\n",
    "ETH_score = ETH_score.sort_index(ascending=True)\n",
    "ETH_score[-7:].plot(kind='bar')"
   ]
  },
  {
   "cell_type": "code",
   "execution_count": 66,
   "metadata": {},
   "outputs": [
    {
     "data": {
      "text/plain": [
       "<matplotlib.axes._subplots.AxesSubplot at 0x1e02a47c108>"
      ]
     },
     "execution_count": 66,
     "metadata": {},
     "output_type": "execute_result"
    },
    {
     "data": {
      "image/png": "[encoded data removed]",
      "text/plain": [
       "<Figure size 432x288 with 1 Axes>"
      ]
     },
     "metadata": {
      "needs_background": "light"
     },
     "output_type": "display_data"
    }
   ],
   "source": [
    "df_scores = CRY_score.merge(BTC_score, how='outer', on='publishedAt', suffixes=('_CRY', '_BTC'))\n",
    "df_scores = df_scores.merge(ETH_score, how='outer', on='publishedAt', suffixes=('_ETH','_ETH'))\n",
    "df_scores = df_scores.sort_index(ascending=True)\n",
    "df_scores = df_scores.rename(columns={'avg_score_CRY': 'CRY_score', 'avg_score_BTC': 'BTC_score', 'avg_score':'ETH_score'})\n",
    "df_scores[-7:].plot(kind='bar')"
   ]
  },
  {
   "cell_type": "code",
   "execution_count": 75,
   "metadata": {},
   "outputs": [],
   "source": [
    "df_scores = df_scores.sort_index(ascending=False)"
   ]
  },
  {
   "cell_type": "code",
   "execution_count": null,
   "metadata": {},
   "outputs": [],
   "source": []
  },
  {
   "cell_type": "markdown",
   "metadata": {},
   "source": [
    "# Exporting DFs"
   ]
  },
  {
   "cell_type": "code",
   "execution_count": 24,
   "metadata": {},
   "outputs": [
    {
     "name": "stdout",
     "output_type": "stream",
     "text": [
      "<class 'pandas.core.frame.DataFrame'>\n",
      "DatetimeIndex: 497 entries, 2020-04-25 15:14:11 to 2020-06-03 20:00:20\n",
      "Data columns (total 14 columns):\n",
      " #   Column       Non-Null Count  Dtype  \n",
      "---  ------       --------------  -----  \n",
      " 0   source       497 non-null    object \n",
      " 1   source_id    497 non-null    object \n",
      " 2   author       459 non-null    object \n",
      " 3   title        497 non-null    object \n",
      " 4   description  489 non-null    object \n",
      " 5   content      462 non-null    object \n",
      " 6   url          497 non-null    object \n",
      " 7   crypto       497 non-null    bool   \n",
      " 8   bitcoin      497 non-null    bool   \n",
      " 9   ethereum     497 non-null    bool   \n",
      " 10  t_score      497 non-null    float64\n",
      " 11  d_score      497 non-null    float64\n",
      " 12  c_score      497 non-null    float64\n",
      " 13  avg_score    497 non-null    float64\n",
      "dtypes: bool(3), float64(4), object(7)\n",
      "memory usage: 68.0+ KB\n"
     ]
    }
   ],
   "source": [
    "df_clean.info()"
   ]
  },
  {
   "cell_type": "code",
   "execution_count": 60,
   "metadata": {},
   "outputs": [],
   "source": [
    "def save_df(df, df_name):\n",
    "    return df.to_pickle(f'{datetime.datetime.now().strftime(\"%y%m%d-%H%M%S\")}-{df_name}.pkl')"
   ]
  },
  {
   "cell_type": "code",
   "execution_count": 27,
   "metadata": {},
   "outputs": [
    {
     "data": {
      "text/html": [
       "<div>\n",
       "<style scoped>\n",
       "    .dataframe tbody tr th:only-of-type {\n",
       "        vertical-align: middle;\n",
       "    }\n",
       "\n",
       "    .dataframe tbody tr th {\n",
       "        vertical-align: top;\n",
       "    }\n",
       "\n",
       "    .dataframe thead th {\n",
       "        text-align: right;\n",
       "    }\n",
       "</style>\n",
       "<table border=\"1\" class=\"dataframe\">\n",
       "  <thead>\n",
       "    <tr style=\"text-align: right;\">\n",
       "      <th></th>\n",
       "      <th>source</th>\n",
       "      <th>source_id</th>\n",
       "      <th>author</th>\n",
       "      <th>title</th>\n",
       "      <th>description</th>\n",
       "      <th>content</th>\n",
       "      <th>url</th>\n",
       "      <th>crypto</th>\n",
       "      <th>bitcoin</th>\n",
       "      <th>ethereum</th>\n",
       "      <th>t_score</th>\n",
       "      <th>d_score</th>\n",
       "      <th>c_score</th>\n",
       "      <th>avg_score</th>\n",
       "    </tr>\n",
       "    <tr>\n",
       "      <th>publishedAt</th>\n",
       "      <th></th>\n",
       "      <th></th>\n",
       "      <th></th>\n",
       "      <th></th>\n",
       "      <th></th>\n",
       "      <th></th>\n",
       "      <th></th>\n",
       "      <th></th>\n",
       "      <th></th>\n",
       "      <th></th>\n",
       "      <th></th>\n",
       "      <th></th>\n",
       "      <th></th>\n",
       "      <th></th>\n",
       "    </tr>\n",
       "  </thead>\n",
       "  <tbody>\n",
       "    <tr>\n",
       "      <th>2020-04-25 15:14:11</th>\n",
       "      <td>Forbes</td>\n",
       "      <td>forbes</td>\n",
       "      <td>Biser Dimitrov</td>\n",
       "      <td>Big Four Accounting Firm Wants To Empower Ente...</td>\n",
       "      <td>Using the public Ethereum blockchain for enter...</td>\n",
       "      <td>Paul Brody, Global Blockchain Innovation Leade...</td>\n",
       "      <td>https://www.forbes.com/sites/biserdimitrov/202...</td>\n",
       "      <td>False</td>\n",
       "      <td>False</td>\n",
       "      <td>True</td>\n",
       "      <td>0.0</td>\n",
       "      <td>0.4215</td>\n",
       "      <td>0.1531</td>\n",
       "      <td>0.191533</td>\n",
       "    </tr>\n",
       "  </tbody>\n",
       "</table>\n",
       "</div>"
      ],
      "text/plain": [
       "                     source source_id          author  \\\n",
       "publishedAt                                             \n",
       "2020-04-25 15:14:11  Forbes    forbes  Biser Dimitrov   \n",
       "\n",
       "                                                                 title  \\\n",
       "publishedAt                                                              \n",
       "2020-04-25 15:14:11  Big Four Accounting Firm Wants To Empower Ente...   \n",
       "\n",
       "                                                           description  \\\n",
       "publishedAt                                                              \n",
       "2020-04-25 15:14:11  Using the public Ethereum blockchain for enter...   \n",
       "\n",
       "                                                               content  \\\n",
       "publishedAt                                                              \n",
       "2020-04-25 15:14:11  Paul Brody, Global Blockchain Innovation Leade...   \n",
       "\n",
       "                                                                   url  \\\n",
       "publishedAt                                                              \n",
       "2020-04-25 15:14:11  https://www.forbes.com/sites/biserdimitrov/202...   \n",
       "\n",
       "                     crypto  bitcoin  ethereum  t_score  d_score  c_score  \\\n",
       "publishedAt                                                                 \n",
       "2020-04-25 15:14:11   False    False      True      0.0   0.4215   0.1531   \n",
       "\n",
       "                     avg_score  \n",
       "publishedAt                     \n",
       "2020-04-25 15:14:11   0.191533  "
      ]
     },
     "execution_count": 27,
     "metadata": {},
     "output_type": "execute_result"
    }
   ],
   "source": [
    "df_clean.head(1)"
   ]
  },
  {
   "cell_type": "code",
   "execution_count": 85,
   "metadata": {},
   "outputs": [],
   "source": [
    "save_df(df_clean, 'df_clean')"
   ]
  },
  {
   "cell_type": "code",
   "execution_count": 28,
   "metadata": {},
   "outputs": [
    {
     "data": {
      "text/html": [
       "<div>\n",
       "<style scoped>\n",
       "    .dataframe tbody tr th:only-of-type {\n",
       "        vertical-align: middle;\n",
       "    }\n",
       "\n",
       "    .dataframe tbody tr th {\n",
       "        vertical-align: top;\n",
       "    }\n",
       "\n",
       "    .dataframe thead th {\n",
       "        text-align: right;\n",
       "    }\n",
       "</style>\n",
       "<table border=\"1\" class=\"dataframe\">\n",
       "  <thead>\n",
       "    <tr style=\"text-align: right;\">\n",
       "      <th></th>\n",
       "      <th>+tribeca-film-festival</th>\n",
       "      <th>99bitcoins.com</th>\n",
       "      <th>abacus</th>\n",
       "      <th>apkmania.live</th>\n",
       "      <th>ars-technica</th>\n",
       "      <th>askubuntu.com</th>\n",
       "      <th>bbc-news</th>\n",
       "      <th>bitcoin-magazine</th>\n",
       "      <th>bitcoinist</th>\n",
       "      <th>bleacher-report</th>\n",
       "      <th>...</th>\n",
       "      <th>the-register</th>\n",
       "      <th>the-times-of-india</th>\n",
       "      <th>theregister.com</th>\n",
       "      <th>valuewalk</th>\n",
       "      <th>wccftech</th>\n",
       "      <th>whtc-news</th>\n",
       "      <th>wordpress.com</th>\n",
       "      <th>yahoo-entertainment</th>\n",
       "      <th>youtube</th>\n",
       "      <th>zerohedge.com</th>\n",
       "    </tr>\n",
       "    <tr>\n",
       "      <th>publishedAt</th>\n",
       "      <th></th>\n",
       "      <th></th>\n",
       "      <th></th>\n",
       "      <th></th>\n",
       "      <th></th>\n",
       "      <th></th>\n",
       "      <th></th>\n",
       "      <th></th>\n",
       "      <th></th>\n",
       "      <th></th>\n",
       "      <th></th>\n",
       "      <th></th>\n",
       "      <th></th>\n",
       "      <th></th>\n",
       "      <th></th>\n",
       "      <th></th>\n",
       "      <th></th>\n",
       "      <th></th>\n",
       "      <th></th>\n",
       "      <th></th>\n",
       "      <th></th>\n",
       "    </tr>\n",
       "  </thead>\n",
       "  <tbody>\n",
       "    <tr>\n",
       "      <th>2020-06-03</th>\n",
       "      <td>0</td>\n",
       "      <td>0</td>\n",
       "      <td>0</td>\n",
       "      <td>0</td>\n",
       "      <td>0</td>\n",
       "      <td>0</td>\n",
       "      <td>0</td>\n",
       "      <td>1</td>\n",
       "      <td>6</td>\n",
       "      <td>0</td>\n",
       "      <td>...</td>\n",
       "      <td>0</td>\n",
       "      <td>0</td>\n",
       "      <td>0</td>\n",
       "      <td>0</td>\n",
       "      <td>0</td>\n",
       "      <td>0</td>\n",
       "      <td>0</td>\n",
       "      <td>9</td>\n",
       "      <td>0</td>\n",
       "      <td>0</td>\n",
       "    </tr>\n",
       "  </tbody>\n",
       "</table>\n",
       "<p>1 rows × 79 columns</p>\n",
       "</div>"
      ],
      "text/plain": [
       "             +tribeca-film-festival  99bitcoins.com  abacus  apkmania.live  \\\n",
       "publishedAt                                                                  \n",
       "2020-06-03                        0               0       0              0   \n",
       "\n",
       "             ars-technica  askubuntu.com  bbc-news  bitcoin-magazine  \\\n",
       "publishedAt                                                            \n",
       "2020-06-03              0              0         0                 1   \n",
       "\n",
       "             bitcoinist  bleacher-report  ...  the-register  \\\n",
       "publishedAt                               ...                 \n",
       "2020-06-03            6                0  ...             0   \n",
       "\n",
       "             the-times-of-india  theregister.com  valuewalk  wccftech  \\\n",
       "publishedAt                                                             \n",
       "2020-06-03                    0                0          0         0   \n",
       "\n",
       "             whtc-news  wordpress.com  yahoo-entertainment  youtube  \\\n",
       "publishedAt                                                           \n",
       "2020-06-03           0              0                    9        0   \n",
       "\n",
       "             zerohedge.com  \n",
       "publishedAt                 \n",
       "2020-06-03               0  \n",
       "\n",
       "[1 rows x 79 columns]"
      ]
     },
     "execution_count": 28,
     "metadata": {},
     "output_type": "execute_result"
    }
   ],
   "source": [
    "df_source.head(1)"
   ]
  },
  {
   "cell_type": "code",
   "execution_count": 86,
   "metadata": {},
   "outputs": [],
   "source": [
    "save_df(df_source, 'df_source')"
   ]
  },
  {
   "cell_type": "code",
   "execution_count": 76,
   "metadata": {},
   "outputs": [
    {
     "data": {
      "text/html": [
       "<div>\n",
       "<style scoped>\n",
       "    .dataframe tbody tr th:only-of-type {\n",
       "        vertical-align: middle;\n",
       "    }\n",
       "\n",
       "    .dataframe tbody tr th {\n",
       "        vertical-align: top;\n",
       "    }\n",
       "\n",
       "    .dataframe thead th {\n",
       "        text-align: right;\n",
       "    }\n",
       "</style>\n",
       "<table border=\"1\" class=\"dataframe\">\n",
       "  <thead>\n",
       "    <tr style=\"text-align: right;\">\n",
       "      <th></th>\n",
       "      <th>CRY_score</th>\n",
       "      <th>BTC_score</th>\n",
       "      <th>ETH_score</th>\n",
       "    </tr>\n",
       "    <tr>\n",
       "      <th>publishedAt</th>\n",
       "      <th></th>\n",
       "      <th></th>\n",
       "      <th></th>\n",
       "    </tr>\n",
       "  </thead>\n",
       "  <tbody>\n",
       "    <tr>\n",
       "      <th>2020-06-03</th>\n",
       "      <td>0.128736</td>\n",
       "      <td>0.042248</td>\n",
       "      <td>0.077611</td>\n",
       "    </tr>\n",
       "    <tr>\n",
       "      <th>2020-06-02</th>\n",
       "      <td>-0.048400</td>\n",
       "      <td>0.054646</td>\n",
       "      <td>0.167767</td>\n",
       "    </tr>\n",
       "    <tr>\n",
       "      <th>2020-06-01</th>\n",
       "      <td>0.224019</td>\n",
       "      <td>0.008227</td>\n",
       "      <td>0.045053</td>\n",
       "    </tr>\n",
       "    <tr>\n",
       "      <th>2020-05-31</th>\n",
       "      <td>0.076564</td>\n",
       "      <td>0.212924</td>\n",
       "      <td>0.125058</td>\n",
       "    </tr>\n",
       "    <tr>\n",
       "      <th>2020-05-30</th>\n",
       "      <td>0.107917</td>\n",
       "      <td>0.045250</td>\n",
       "      <td>0.058858</td>\n",
       "    </tr>\n",
       "  </tbody>\n",
       "</table>\n",
       "</div>"
      ],
      "text/plain": [
       "             CRY_score  BTC_score  ETH_score\n",
       "publishedAt                                 \n",
       "2020-06-03    0.128736   0.042248   0.077611\n",
       "2020-06-02   -0.048400   0.054646   0.167767\n",
       "2020-06-01    0.224019   0.008227   0.045053\n",
       "2020-05-31    0.076564   0.212924   0.125058\n",
       "2020-05-30    0.107917   0.045250   0.058858"
      ]
     },
     "execution_count": 76,
     "metadata": {},
     "output_type": "execute_result"
    }
   ],
   "source": [
    "df_scores.head()"
   ]
  },
  {
   "cell_type": "code",
   "execution_count": 61,
   "metadata": {},
   "outputs": [],
   "source": [
    "save_df(df_scores, 'df_scores')"
   ]
  },
  {
   "cell_type": "code",
   "execution_count": null,
   "metadata": {},
   "outputs": [],
   "source": []
  }
 ],
 "metadata": {
  "kernelspec": {
   "display_name": "Python 3",
   "language": "python",
   "name": "python3"
  },
  "language_info": {
   "codemirror_mode": {
    "name": "ipython",
    "version": 3
   },
   "file_extension": ".py",
   "mimetype": "text/x-python",
   "name": "python",
   "nbconvert_exporter": "python",
   "pygments_lexer": "ipython3",
   "version": "3.7.7"
  },
  "toc-autonumbering": true,
  "toc-showcode": false,
  "toc-showmarkdowntxt": false,
  "toc-showtags": false
 },
 "nbformat": 4,
 "nbformat_minor": 4
}
