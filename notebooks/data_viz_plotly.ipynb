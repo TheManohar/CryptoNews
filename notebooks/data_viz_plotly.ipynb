{
 "cells": [
  {
   "cell_type": "code",
   "execution_count": 1,
   "metadata": {},
   "outputs": [],
   "source": [
    "import plotly.offline as pyo\n",
    "import plotly.graph_objs as go\n",
    "import pandas as pd"
   ]
  },
  {
   "cell_type": "markdown",
   "metadata": {},
   "source": [
    "# Data Preparation"
   ]
  },
  {
   "cell_type": "code",
   "execution_count": 2,
   "metadata": {},
   "outputs": [],
   "source": [
    "df_scores = pd.read_pickle('200608-150334-df_scores.pkl')"
   ]
  },
  {
   "cell_type": "code",
   "execution_count": 3,
   "metadata": {},
   "outputs": [],
   "source": [
    "df_scores = df_scores.fillna(0)"
   ]
  },
  {
   "cell_type": "code",
   "execution_count": 4,
   "metadata": {},
   "outputs": [],
   "source": [
    "df_clean = pd.read_pickle('200604-192804-df_clean.pkl')"
   ]
  },
  {
   "cell_type": "code",
   "execution_count": 5,
   "metadata": {},
   "outputs": [],
   "source": [
    "df_clean['dc_score'] = (df_clean['d_score'] + df_clean['c_score']) / 2"
   ]
  },
  {
   "cell_type": "code",
   "execution_count": 6,
   "metadata": {},
   "outputs": [],
   "source": [
    "df_count = df_clean[['crypto','bitcoin','ethereum']]\n",
    "df_count = df_count.resample('D').sum()\n",
    "df_count = df_count.sort_index(ascending=False)"
   ]
  },
  {
   "cell_type": "code",
   "execution_count": 7,
   "metadata": {},
   "outputs": [],
   "source": [
    "df_scores = df_scores.merge(df_count, on='publishedAt')"
   ]
  },
  {
   "cell_type": "markdown",
   "metadata": {},
   "source": [
    "# Daily Sentiment Plot"
   ]
  },
  {
   "cell_type": "code",
   "execution_count": 8,
   "metadata": {},
   "outputs": [],
   "source": [
    "def daily_line_plot(df):\n",
    "    trace1 = go.Scatter(x=df.index,\n",
    "                    y=df['CRY_score'],\n",
    "                    name = 'Crypto',\n",
    "                    #fill='tozeroy',\n",
    "                    mode = 'lines+markers',\n",
    "                    marker=dict(color='#136dad'))\n",
    "                    #visible='legendonly')\n",
    "\n",
    "    trace2 = go.Scatter(x=df.index,\n",
    "                    y=df['BTC_score'],\n",
    "                    name = 'Bitcoin',\n",
    "                    #fill='tozeroy',\n",
    "                    mode = 'lines+markers',\n",
    "                    marker=dict(color='#d4d12c'))\n",
    "\n",
    "    trace3 = go.Scatter(x=df.index,\n",
    "                        y=df['ETH_score'],\n",
    "                        name = 'Ethereum',\n",
    "                        #fill='tozeroy',\n",
    "                        mode = 'lines+markers',\n",
    "                        marker=dict(color='#4b5b75'))\n",
    "\n",
    "    data = [trace1, trace2, trace3]\n",
    "\n",
    "    layout = go.Layout(title='Daily Average Sentiment Score')\n",
    "\n",
    "    fig = go.Figure(data=data, layout=layout)\n",
    "    \n",
    "    fig.add_shape(type=\"rect\", \n",
    "                  x0=df.index[0], \n",
    "                  x1=df.index[-1], \n",
    "                  y0= 0, \n",
    "                  y1= -1, \n",
    "                  line=dict(width=0),\n",
    "                  fillcolor=\"rgba(255, 0, 0, 0.05)\")\n",
    "    \n",
    "    fig.add_shape(type=\"rect\", \n",
    "                  x0=df.index[0], \n",
    "                  x1=df.index[-1], \n",
    "                  y0= 0, \n",
    "                  y1= 1, \n",
    "                  line=dict(width=0),\n",
    "                  fillcolor=\"rgba(0, 255, 0, 0.05)\")\n",
    "    \n",
    "    fig.update_layout(\n",
    "        xaxis=dict(\n",
    "            rangeselector=dict(\n",
    "                buttons=list([\n",
    "                    dict(count=7,\n",
    "                         label=\"1w\",\n",
    "                         step=\"day\",\n",
    "                         stepmode=\"backward\"),\n",
    "                    dict(count=1,\n",
    "                         label=\"1m\",\n",
    "                         step=\"month\",\n",
    "                         stepmode=\"backward\"),\n",
    "                    dict(step=\"all\")\n",
    "                ])\n",
    "            ),\n",
    "            rangeslider=dict(\n",
    "                visible=True\n",
    "            ),\n",
    "            type=\"date\"\n",
    "        )\n",
    "    )\n",
    "    \n",
    "    initial_range = [df.index[-7], df.index[-1]]\n",
    "\n",
    "    fig['layout']['xaxis'].update(range=initial_range, autorange=False)\n",
    "    fig['layout']['yaxis'].update(range=[-1, 1], autorange=False)\n",
    "\n",
    "    fig.update_layout(xaxis_tickangle=-45)\n",
    "\n",
    "    pyo.plot(fig, filename='avg_score.html')"
   ]
  },
  {
   "cell_type": "code",
   "execution_count": 9,
   "metadata": {},
   "outputs": [],
   "source": [
    "#daily_line_plot(df_scores)"
   ]
  },
  {
   "cell_type": "markdown",
   "metadata": {},
   "source": [
    "# Daily Count Plot"
   ]
  },
  {
   "cell_type": "code",
   "execution_count": 10,
   "metadata": {},
   "outputs": [],
   "source": [
    "def daily_bar_plot(df):\n",
    "    df = df.sort_index(ascending=True)\n",
    "    \n",
    "    trace1 = go.Bar(x=df.index,\n",
    "                    y=df['crypto'],\n",
    "                    name = 'Crypto',\n",
    "                    marker=dict(color='#136dad'),\n",
    "                    #visible='legendonly',\n",
    "                    text=df['crypto'],\n",
    "                    textposition='auto')\n",
    "\n",
    "    trace2 = go.Bar(x=df.index,\n",
    "                    y=df['bitcoin'],\n",
    "                    name = 'Bitcoin',\n",
    "                    marker=dict(color='#d4d12c'),\n",
    "                    text=df['bitcoin'],\n",
    "                    textposition='auto')\n",
    "\n",
    "    trace3 = go.Bar(x=df.index,\n",
    "                    y=df['ethereum'],\n",
    "                    name = 'Ethereum',\n",
    "                    marker=dict(color='#4b5b75'),\n",
    "                    text=df['ethereum'],\n",
    "                    textposition='auto')\n",
    "\n",
    "    data = [trace1, trace2, trace3]\n",
    "\n",
    "    layout = go.Layout(title='Daily Articles Count')\n",
    "\n",
    "    fig = go.Figure(data=data, layout=layout)\n",
    "\n",
    "    fig.update_layout(\n",
    "        xaxis=dict(\n",
    "            rangeselector=dict(\n",
    "                buttons=list([\n",
    "                    dict(count=8,\n",
    "                         label=\"1w\",\n",
    "                         step=\"day\",\n",
    "                         stepmode=\"backward\"),\n",
    "                    dict(count=1,\n",
    "                         label=\"1m\",\n",
    "                         step=\"month\",\n",
    "                         stepmode=\"backward\"),\n",
    "                    dict(step=\"all\")\n",
    "                ])\n",
    "            ),\n",
    "            rangeslider=dict(\n",
    "                visible=True\n",
    "            ),\n",
    "            type=\"date\"))\n",
    "    \n",
    "    initial_range = [df.index[-8], (df.index[-1]+pd.DateOffset(1))]\n",
    "    fig['layout']['xaxis'].update(range=initial_range)\n",
    "    \n",
    "    fig.update_layout(xaxis_tickangle=-45)\n",
    "\n",
    "    pyo.plot(fig, filename='count.html')"
   ]
  },
  {
   "cell_type": "code",
   "execution_count": 11,
   "metadata": {},
   "outputs": [],
   "source": [
    "#daily_bar_plot(df_scores)"
   ]
  },
  {
   "cell_type": "markdown",
   "metadata": {},
   "source": [
    "# Scatter Plot"
   ]
  },
  {
   "cell_type": "code",
   "execution_count": 12,
   "metadata": {},
   "outputs": [],
   "source": [
    "def scatter_plot(df):\n",
    "    data = [go.Scatter(x=df['t_score'],\n",
    "                       y=df['dc_score'],\n",
    "                       mode='markers')]\n",
    "    layout = go.Layout(title='Scatter Plot')\n",
    "    fig = go.Figure(data=data, layout=layout)\n",
    "    pyo.plot(fig, filename='sentiment.html')"
   ]
  },
  {
   "cell_type": "code",
   "execution_count": 13,
   "metadata": {},
   "outputs": [],
   "source": [
    "#scatter_plot(df_clean)"
   ]
  },
  {
   "cell_type": "markdown",
   "metadata": {},
   "source": [
    "# Dashboard"
   ]
  },
  {
   "cell_type": "code",
   "execution_count": 14,
   "metadata": {},
   "outputs": [],
   "source": [
    "import dash\n",
    "import dash_core_components as dcc\n",
    "import dash_html_components as html"
   ]
  },
  {
   "cell_type": "code",
   "execution_count": 1,
   "metadata": {},
   "outputs": [
    {
     "ename": "NameError",
     "evalue": "name 'dash' is not defined",
     "output_type": "error",
     "traceback": [
      "\u001b[1;31m---------------------------------------------------------------------------\u001b[0m",
      "\u001b[1;31mNameError\u001b[0m                                 Traceback (most recent call last)",
      "\u001b[1;32m<ipython-input-1-89a58a9eb56f>\u001b[0m in \u001b[0;36m<module>\u001b[1;34m\u001b[0m\n\u001b[1;32m----> 1\u001b[1;33m \u001b[0mapp\u001b[0m \u001b[1;33m=\u001b[0m \u001b[0mdash\u001b[0m\u001b[1;33m.\u001b[0m\u001b[0mDash\u001b[0m\u001b[1;33m(\u001b[0m\u001b[1;33m)\u001b[0m\u001b[1;33m\u001b[0m\u001b[1;33m\u001b[0m\u001b[0m\n\u001b[0m",
      "\u001b[1;31mNameError\u001b[0m: name 'dash' is not defined"
     ]
    }
   ],
   "source": [
    "app = dash.Dash()"
   ]
  },
  {
   "cell_type": "code",
   "execution_count": 50,
   "metadata": {},
   "outputs": [],
   "source": [
    "df = df_scores"
   ]
  },
  {
   "cell_type": "code",
   "execution_count": 17,
   "metadata": {},
   "outputs": [],
   "source": [
    "colors = {\n",
    "    'crypto': '#136dad',\n",
    "    'bitcoin': '#d4d12c',\n",
    "    'ethereum': '#4b5b75'}\n",
    "\n",
    "app.layout = html.Div([\n",
    "    html.H1('CryptoNews',\n",
    "            style={'textAlign': 'center'}),\n",
    "    \n",
    "    html.Div('An API based on Flask. It collects and displays the latest news about cryptocurrency from various news sources.',\n",
    "             style={'textAlign': 'center'}),\n",
    "\n",
    "    dcc.Graph(id='count-bars',\n",
    "        figure={'data':[ \n",
    "            go.Bar(x=df.index,\n",
    "                    y=df['crypto'],\n",
    "                    name = 'Crypto',\n",
    "                    marker=dict(color='#136dad'),\n",
    "                    text=df['crypto'],\n",
    "                    textposition='auto'),\n",
    "            go.Bar(x=df.index,\n",
    "                    y=df['bitcoin'],\n",
    "                    name = 'Bitcoin',\n",
    "                    marker=dict(color='#d4d12c'),\n",
    "                    text=df['bitcoin'],\n",
    "                    textposition='auto'),\n",
    "            go.Bar(x=df.index,\n",
    "                    y=df['ethereum'],\n",
    "                    name = 'Ethereum',\n",
    "                    marker=dict(color='#4b5b75'),\n",
    "                    text=df['ethereum'],\n",
    "                    textposition='auto')],\n",
    "                'layout': go.Layout(\n",
    "                title = 'Daily Noise Meter',\n",
    "                yaxis = {'title': 'Number of mentions in headline'},\n",
    "                xaxis=dict(\n",
    "                rangeselector=dict(\n",
    "                    buttons=list([\n",
    "                        dict(count=8,\n",
    "                             label=\"1w\",\n",
    "                             step=\"day\",\n",
    "                             stepmode=\"backward\"),\n",
    "                        dict(count=1,\n",
    "                             label=\"1m\",\n",
    "                             step=\"month\",\n",
    "                             stepmode=\"backward\"),\n",
    "                        dict(step=\"all\")\n",
    "                    ])\n",
    "                ),\n",
    "                rangeslider=dict(\n",
    "                    visible=True\n",
    "                ),\n",
    "                type=\"date\"))}),\n",
    "    \n",
    "    dcc.Graph(id='score-lines',\n",
    "        figure = {'data':[\n",
    "            go.Scatter(\n",
    "                    x=df.index,\n",
    "                    y=df['CRY_score'],\n",
    "                    name = 'Crypto',\n",
    "                    fill='tozeroy',\n",
    "                    mode = 'lines+markers',\n",
    "                    marker=dict(color='#136dad')),\n",
    "            go.Scatter(\n",
    "                    x=df.index,\n",
    "                    y=df['BTC_score'],\n",
    "                    name = 'Bitcoin',\n",
    "                    fill='tozeroy',\n",
    "                    mode = 'lines+markers',\n",
    "                    marker=dict(color='#d4d12c')),\n",
    "            go.Scatter(\n",
    "                    x=df.index,\n",
    "                    y=df['ETH_score'],\n",
    "                    name = 'Ethereum',\n",
    "                    fill='tozeroy',\n",
    "                    mode = 'lines+markers',\n",
    "                    marker=dict(color='#4b5b75'))],\n",
    "                'layout': {'title': 'Daily Average Sentiment Score'}})\n",
    "])"
   ]
  },
  {
   "cell_type": "code",
   "execution_count": 18,
   "metadata": {},
   "outputs": [],
   "source": [
    "#if __name__ == '__main__':\n",
    "#    app.run_server()"
   ]
  },
  {
   "cell_type": "code",
   "execution_count": null,
   "metadata": {},
   "outputs": [],
   "source": []
  },
  {
   "cell_type": "code",
   "execution_count": 19,
   "metadata": {},
   "outputs": [],
   "source": [
    "import dash\n",
    "import dash_core_components as dcc\n",
    "import dash_html_components as html\n",
    "from dash.dependencies import Input, Output\n",
    "import plotly.graph_objs as go\n",
    "import pandas as pd"
   ]
  },
  {
   "cell_type": "code",
   "execution_count": 61,
   "metadata": {},
   "outputs": [],
   "source": [
    "colors = {\n",
    "    'crypto': '#136dad',\n",
    "    'bitcoin': '#d4d12c',\n",
    "    'ethereum': '#4b5b75'}\n",
    "\n",
    "app.layout = html.Div([\n",
    "    html.H1('CryptoNews',\n",
    "            style={'textAlign': 'center'}),\n",
    "    \n",
    "    html.Div('An API based on Flask. It collects and displays the latest news about cryptocurrency from various news sources.',\n",
    "             style={'textAlign': 'center'}),\n",
    "  \n",
    "    dcc.RangeSlider(\n",
    "        id='date-range-slider',\n",
    "        #marks=[{i: v} for i,v in enumerate(df.index)],\n",
    "        value=[df.index[-1], df.index[0]]\n",
    "    ),\n",
    "    \n",
    "    dcc.Graph(id='count-bars')\n",
    "    ])\n",
    "    \n",
    "@app.callback(Output('count-bars', 'figure'),\n",
    "          [Input('date-range-slider', 'value')])\n",
    "def update_figure(value):\n",
    "    return {'data': [go.Scatter(x=df.index,\n",
    "                y=df['CRY_score'],\n",
    "                name = 'Crypto',\n",
    "                fill='tozeroy',\n",
    "                mode = 'lines+markers',\n",
    "                marker=dict(color='#136dad'))],\n",
    "            'layout': go.Layout(\n",
    "                xaxis=dict(\n",
    "                    rangeselector=dict(\n",
    "                        buttons=list([\n",
    "                            dict(count=7,\n",
    "                                 label=\"1w\",\n",
    "                                 step=\"day\",\n",
    "                                 stepmode=\"backward\"),\n",
    "                            dict(count=1,\n",
    "                                 label=\"1m\",\n",
    "                                 step=\"month\",\n",
    "                                 stepmode=\"backward\"),\n",
    "                            dict(step=\"all\")\n",
    "                        ])\n",
    "                    ),\n",
    "                    autorange=False,\n",
    "                    type=\"date\",\n",
    "                    range=value\n",
    "                ))}\n",
    "            "
   ]
  },
  {
   "cell_type": "code",
   "execution_count": 65,
   "metadata": {},
   "outputs": [
    {
     "name": "stdout",
     "output_type": "stream",
     "text": [
      " * Serving Flask app \"__main__\" (lazy loading)\n",
      " * Environment: production\n",
      "   WARNING: This is a development server. Do not use it in a production deployment.\n",
      "   Use a production WSGI server instead.\n",
      " * Debug mode: off\n"
     ]
    }
   ],
   "source": [
    "#if __name__ == '__main__':\n",
    "#    app.run_server()"
   ]
  },
  {
   "cell_type": "code",
   "execution_count": 35,
   "metadata": {},
   "outputs": [
    {
     "data": {
      "text/html": [
       "<div>\n",
       "<style scoped>\n",
       "    .dataframe tbody tr th:only-of-type {\n",
       "        vertical-align: middle;\n",
       "    }\n",
       "\n",
       "    .dataframe tbody tr th {\n",
       "        vertical-align: top;\n",
       "    }\n",
       "\n",
       "    .dataframe thead th {\n",
       "        text-align: right;\n",
       "    }\n",
       "</style>\n",
       "<table border=\"1\" class=\"dataframe\">\n",
       "  <thead>\n",
       "    <tr style=\"text-align: right;\">\n",
       "      <th></th>\n",
       "      <th>CRY_score</th>\n",
       "      <th>BTC_score</th>\n",
       "      <th>ETH_score</th>\n",
       "      <th>crypto</th>\n",
       "      <th>bitcoin</th>\n",
       "      <th>ethereum</th>\n",
       "    </tr>\n",
       "    <tr>\n",
       "      <th>publishedAt</th>\n",
       "      <th></th>\n",
       "      <th></th>\n",
       "      <th></th>\n",
       "      <th></th>\n",
       "      <th></th>\n",
       "      <th></th>\n",
       "    </tr>\n",
       "  </thead>\n",
       "  <tbody>\n",
       "    <tr>\n",
       "      <th>2020-06-03</th>\n",
       "      <td>0.128736</td>\n",
       "      <td>0.042248</td>\n",
       "      <td>0.077611</td>\n",
       "      <td>17.0</td>\n",
       "      <td>45.0</td>\n",
       "      <td>9.0</td>\n",
       "    </tr>\n",
       "  </tbody>\n",
       "</table>\n",
       "</div>"
      ],
      "text/plain": [
       "             CRY_score  BTC_score  ETH_score  crypto  bitcoin  ethereum\n",
       "publishedAt                                                            \n",
       "2020-06-03    0.128736   0.042248   0.077611    17.0     45.0       9.0"
      ]
     },
     "execution_count": 35,
     "metadata": {},
     "output_type": "execute_result"
    }
   ],
   "source": [
    "df.head(1)"
   ]
  },
  {
   "cell_type": "code",
   "execution_count": null,
   "metadata": {},
   "outputs": [
    {
     "name": "stdout",
     "output_type": "stream",
     "text": [
      " * Serving Flask app \"__main__\" (lazy loading)\n",
      " * Environment: production\n",
      "   WARNING: This is a development server. Do not use it in a production deployment.\n",
      "   Use a production WSGI server instead.\n",
      " * Debug mode: off\n"
     ]
    },
    {
     "name": "stderr",
     "output_type": "stream",
     "text": [
      " * Running on http://127.0.0.1:8050/ (Press CTRL+C to quit)\n",
      "127.0.0.1 - - [12/Jun/2020 02:04:17] \"\u001b[37mGET / HTTP/1.1\u001b[0m\" 200 -\n",
      "127.0.0.1 - - [12/Jun/2020 02:04:18] \"\u001b[37mGET /_dash-layout HTTP/1.1\u001b[0m\" 200 -\n",
      "127.0.0.1 - - [12/Jun/2020 02:04:18] \"\u001b[37mGET /_dash-dependencies HTTP/1.1\u001b[0m\" 200 -\n"
     ]
    }
   ],
   "source": [
    "import dash\n",
    "import dash_core_components as dcc\n",
    "import dash_html_components as html\n",
    "from dash.dependencies import Input, Output\n",
    "import plotly.graph_objs as go\n",
    "import pandas as pd\n",
    "\n",
    "app.layout = html.Div([\n",
    "    html.H1('CryptoNews',\n",
    "            style={'textAlign': 'center'}),\n",
    "    \n",
    "    html.Div('An API based on Flask. It collects and displays the latest news about cryptocurrency from various news sources.',\n",
    "             style={'textAlign': 'center'}),\n",
    "    \n",
    "    dcc.Dropdown(id='coin-picker',\n",
    "                options=[\n",
    "                    {'label': 'Crypto', 'value': 'CRY_score'},\n",
    "                    {'label': 'Bitcoin', 'value': 'BTC_score'},\n",
    "                    {'label': 'Ethereum', 'value': 'ETH_score'}],\n",
    "                value='BTC_score'),\n",
    "                #multi=True),\n",
    "    \n",
    "    dcc.Graph(id='graph',\n",
    "        figure={'data':[go.Scatter(\n",
    "            x=df.index,\n",
    "            y=df['BTC_score'],\n",
    "            #name = 'Bitcoin',\n",
    "            #fill='tozeroy',\n",
    "            mode = 'lines+markers',\n",
    "            marker=dict(color='#d4d12c'))]}),\n",
    "                       \n",
    "    html.Div(id='my-div')\n",
    "])\n",
    "\n",
    "@app.callback(Output('my-div', 'children'),\n",
    "              [Input('coin-picker', 'value')])\n",
    "def update_graph(coin_names):\n",
    "    df = df[coin_names]\n",
    "    traces = []\n",
    "    for name in coin_names:\n",
    "        traces.append(go.Scatter(\n",
    "            x=df.index,\n",
    "            y=df[coin_name],\n",
    "            #name = 'Bitcoin',\n",
    "            #fill='tozeroy',\n",
    "            mode = 'lines+markers',\n",
    "            marker=dict(color='#d4d12c')))\n",
    "    return 'You have selected \"{}\"'.format(value)\n",
    "#{'data': traces,'layout': go.Layout(title='Daily Average Sentiment Score')}\n",
    "\n",
    "if __name__ == '__main__':\n",
    "    app.run_server()"
   ]
  },
  {
   "cell_type": "code",
   "execution_count": 54,
   "metadata": {},
   "outputs": [
    {
     "name": "stdout",
     "output_type": "stream",
     "text": [
      " * Serving Flask app \"__main__\" (lazy loading)\n",
      " * Environment: production\n",
      "   WARNING: This is a development server. Do not use it in a production deployment.\n",
      "   Use a production WSGI server instead.\n",
      " * Debug mode: off\n"
     ]
    },
    {
     "name": "stderr",
     "output_type": "stream",
     "text": [
      " * Running on http://127.0.0.1:8050/ (Press CTRL+C to quit)\n",
      "127.0.0.1 - - [12/Jun/2020 01:38:38] \"\u001b[37mGET / HTTP/1.1\u001b[0m\" 200 -\n",
      "127.0.0.1 - - [12/Jun/2020 01:38:38] \"\u001b[37mGET /_dash-layout HTTP/1.1\u001b[0m\" 200 -\n",
      "127.0.0.1 - - [12/Jun/2020 01:38:38] \"\u001b[37mGET /_dash-dependencies HTTP/1.1\u001b[0m\" 200 -\n"
     ]
    }
   ],
   "source": [
    "app.run_server()"
   ]
  },
  {
   "cell_type": "code",
   "execution_count": null,
   "metadata": {},
   "outputs": [],
   "source": []
  },
  {
   "cell_type": "code",
   "execution_count": null,
   "metadata": {},
   "outputs": [],
   "source": []
  },
  {
   "cell_type": "code",
   "execution_count": 44,
   "metadata": {},
   "outputs": [
    {
     "data": {
      "text/plain": [
       "'dash_test.html'"
      ]
     },
     "execution_count": 44,
     "metadata": {},
     "output_type": "execute_result"
    }
   ],
   "source": [
    "data = [go.Scatter(x=df.index,\n",
    "            y=df['BTC_score'],\n",
    "            #name = 'Bitcoin',\n",
    "            #fill='tozeroy',\n",
    "            mode = 'lines+markers',\n",
    "            marker=dict(color='#d4d12c'))]\n",
    "    \n",
    "layout = go.Layout(title='Daily Average Sentiment Score')\n",
    "\n",
    "fig = go.Figure(data=data, layout=layout)\n",
    "    \n",
    "pyo.plot(fig, filename='dash_test.html')"
   ]
  },
  {
   "cell_type": "code",
   "execution_count": null,
   "metadata": {},
   "outputs": [],
   "source": []
  }
 ],
 "metadata": {
  "kernelspec": {
   "display_name": "Python 3",
   "language": "python",
   "name": "python3"
  },
  "language_info": {
   "codemirror_mode": {
    "name": "ipython",
    "version": 3
   },
   "file_extension": ".py",
   "mimetype": "text/x-python",
   "name": "python",
   "nbconvert_exporter": "python",
   "pygments_lexer": "ipython3",
   "version": "3.7.7"
  },
  "toc-autonumbering": true
 },
 "nbformat": 4,
 "nbformat_minor": 4
}
