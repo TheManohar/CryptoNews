{
 "cells": [
  {
   "cell_type": "code",
   "execution_count": 1,
   "metadata": {
    "collapsed": false
   },
   "outputs": [],
   "source": [
    "#!/usr/bin/python3.7\n",
    "\n",
    "import json\n",
    "import os\n",
    "import sys\n",
    "\n",
    "def read_data():\n",
    "    data = []\n",
    "    for filename in os.listdir(os.getcwd()+'/news_data'):\n",
    "        if filename.endswith(\".json\"):\n",
    "            try:\n",
    "                with open(os.path.join(os.getcwd()+'/news_data', filename), 'r') as f:\n",
    "                    data.append(json.load(f))\n",
    "            except:\n",
    "                e = sys.exc_info()[0]\n",
    "                print(f'Error: {filename} {e}')\n",
    "            finally:\n",
    "                os.replace(f'{os.getcwd()}/news_data/{filename}', f'{os.getcwd()}/news_data/done/{filename}')\n",
    "    return data\n",
    "\n",
    "def parse_data(data):\n",
    "    parsed_data = []\n",
    "    for element in data:\n",
    "        for article in element[\"articles\"]:\n",
    "            source = article['source']['name']\n",
    "            source_id = article['source']['id']\n",
    "            if source_id is None:\n",
    "                source_id = source.lower().replace(' ','-')\n",
    "            author = article[\"author\"]\n",
    "            title = article[\"title\"]\n",
    "            description = article[\"description\"]\n",
    "            url = article[\"url\"]\n",
    "            publishedAt = ' '.join(article[\"publishedAt\"].replace('Z','').split('T'))\n",
    "            content = article[\"content\"]\n",
    "            row = publishedAt, source, source_id, author, title, description, content, url\n",
    "            parsed_data.append(row)\n",
    "    return parsed_data"
   ]
  },
  {
   "cell_type": "code",
   "execution_count": 4,
   "metadata": {
    "collapsed": false
   },
   "outputs": [],
   "source": [
    "data = read_data()"
   ]
  },
  {
   "cell_type": "code",
   "execution_count": 5,
   "metadata": {
    "collapsed": false
   },
   "outputs": [
    {
     "data": {
      "text/plain": [
       "[]"
      ]
     },
     "execution_count": 5,
     "metadata": {},
     "output_type": "execute_result"
    }
   ],
   "source": [
    "data[:100]"
   ]
  },
  {
   "cell_type": "code",
   "execution_count": null,
   "metadata": {
    "collapsed": true
   },
   "outputs": [],
   "source": []
  }
 ],
 "metadata": {
  "kernelspec": {
   "display_name": "Python 3.7",
   "language": "python",
   "name": "python3.7"
  },
  "language_info": {
   "codemirror_mode": {
    "name": "ipython",
    "version": 3
   },
   "file_extension": ".py",
   "mimetype": "text/x-python",
   "name": "python",
   "nbconvert_exporter": "python",
   "pygments_lexer": "ipython3",
   "version": "3.7.0"
  }
 },
 "nbformat": 4,
 "nbformat_minor": 0
}
