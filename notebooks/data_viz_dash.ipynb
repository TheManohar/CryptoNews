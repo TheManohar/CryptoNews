{
 "cells": [
  {
   "cell_type": "code",
   "execution_count": 1,
   "metadata": {},
   "outputs": [],
   "source": [
    "import pandas as pd"
   ]
  },
  {
   "cell_type": "code",
   "execution_count": 2,
   "metadata": {},
   "outputs": [],
   "source": [
    "df = pd.read_pickle('200604-192804-df_clean.pkl')"
   ]
  },
  {
   "cell_type": "code",
   "execution_count": 3,
   "metadata": {},
   "outputs": [
    {
     "data": {
      "text/html": [
       "<div>\n",
       "<style scoped>\n",
       "    .dataframe tbody tr th:only-of-type {\n",
       "        vertical-align: middle;\n",
       "    }\n",
       "\n",
       "    .dataframe tbody tr th {\n",
       "        vertical-align: top;\n",
       "    }\n",
       "\n",
       "    .dataframe thead th {\n",
       "        text-align: right;\n",
       "    }\n",
       "</style>\n",
       "<table border=\"1\" class=\"dataframe\">\n",
       "  <thead>\n",
       "    <tr style=\"text-align: right;\">\n",
       "      <th></th>\n",
       "      <th>source</th>\n",
       "      <th>source_id</th>\n",
       "      <th>author</th>\n",
       "      <th>title</th>\n",
       "      <th>description</th>\n",
       "      <th>content</th>\n",
       "      <th>url</th>\n",
       "      <th>crypto</th>\n",
       "      <th>bitcoin</th>\n",
       "      <th>ethereum</th>\n",
       "      <th>t_score</th>\n",
       "      <th>d_score</th>\n",
       "      <th>c_score</th>\n",
       "      <th>avg_score</th>\n",
       "    </tr>\n",
       "    <tr>\n",
       "      <th>publishedAt</th>\n",
       "      <th></th>\n",
       "      <th></th>\n",
       "      <th></th>\n",
       "      <th></th>\n",
       "      <th></th>\n",
       "      <th></th>\n",
       "      <th></th>\n",
       "      <th></th>\n",
       "      <th></th>\n",
       "      <th></th>\n",
       "      <th></th>\n",
       "      <th></th>\n",
       "      <th></th>\n",
       "      <th></th>\n",
       "    </tr>\n",
       "  </thead>\n",
       "  <tbody>\n",
       "    <tr>\n",
       "      <th>2020-04-25 15:14:11</th>\n",
       "      <td>Forbes</td>\n",
       "      <td>forbes</td>\n",
       "      <td>Biser Dimitrov</td>\n",
       "      <td>Big Four Accounting Firm Wants To Empower Ente...</td>\n",
       "      <td>Using the public Ethereum blockchain for enter...</td>\n",
       "      <td>Paul Brody, Global Blockchain Innovation Leade...</td>\n",
       "      <td>https://www.forbes.com/sites/biserdimitrov/202...</td>\n",
       "      <td>False</td>\n",
       "      <td>False</td>\n",
       "      <td>True</td>\n",
       "      <td>0.0</td>\n",
       "      <td>0.4215</td>\n",
       "      <td>0.1531</td>\n",
       "      <td>0.191533</td>\n",
       "    </tr>\n",
       "  </tbody>\n",
       "</table>\n",
       "</div>"
      ],
      "text/plain": [
       "                     source source_id          author  \\\n",
       "publishedAt                                             \n",
       "2020-04-25 15:14:11  Forbes    forbes  Biser Dimitrov   \n",
       "\n",
       "                                                                 title  \\\n",
       "publishedAt                                                              \n",
       "2020-04-25 15:14:11  Big Four Accounting Firm Wants To Empower Ente...   \n",
       "\n",
       "                                                           description  \\\n",
       "publishedAt                                                              \n",
       "2020-04-25 15:14:11  Using the public Ethereum blockchain for enter...   \n",
       "\n",
       "                                                               content  \\\n",
       "publishedAt                                                              \n",
       "2020-04-25 15:14:11  Paul Brody, Global Blockchain Innovation Leade...   \n",
       "\n",
       "                                                                   url  \\\n",
       "publishedAt                                                              \n",
       "2020-04-25 15:14:11  https://www.forbes.com/sites/biserdimitrov/202...   \n",
       "\n",
       "                     crypto  bitcoin  ethereum  t_score  d_score  c_score  \\\n",
       "publishedAt                                                                 \n",
       "2020-04-25 15:14:11   False    False      True      0.0   0.4215   0.1531   \n",
       "\n",
       "                     avg_score  \n",
       "publishedAt                     \n",
       "2020-04-25 15:14:11   0.191533  "
      ]
     },
     "execution_count": 3,
     "metadata": {},
     "output_type": "execute_result"
    }
   ],
   "source": [
    "df.head(1)"
   ]
  },
  {
   "cell_type": "code",
   "execution_count": null,
   "metadata": {},
   "outputs": [],
   "source": []
  }
 ],
 "metadata": {
  "kernelspec": {
   "display_name": "Python 3",
   "language": "python",
   "name": "python3"
  },
  "language_info": {
   "codemirror_mode": {
    "name": "ipython",
    "version": 3
   },
   "file_extension": ".py",
   "mimetype": "text/x-python",
   "name": "python",
   "nbconvert_exporter": "python",
   "pygments_lexer": "ipython3",
   "version": "3.7.7"
  }
 },
 "nbformat": 4,
 "nbformat_minor": 4
}
